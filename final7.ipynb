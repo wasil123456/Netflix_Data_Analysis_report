{
 "cells": [
  {
   "cell_type": "markdown",
   "id": "eaf8b060-02b0-4b9c-a94b-6237ae891760",
   "metadata": {},
   "source": [
    "# <b>Netflix Data Analysis</b>"
   ]
  },
  {
   "cell_type": "markdown",
   "id": "49e47f54-1c54-49c5-a0a1-d200009ba2b6",
   "metadata": {
    "jp-MarkdownHeadingCollapsed": true
   },
   "source": [
    "## Introduction\n",
    "\n",
    "This dataset contains a comprehensive collection of Netflix titles, offering valuable insight into the platform's extensive catalog of films and TV shows. The data includes a range of information, from the title, country of origin, and release year, to the duration, rating, and the genres under which each title falls. Analyzing this dataset can aid in understanding the distribution of content across different genres, regions, and periods, making it a helpful resource for media analysts, film lovers, or anyone interested in the growing influence of Netflix in the digital era. As of Netflix we all know it is a streaming platform which is consisted of thousands of movies, tv shows and documentaries from accross the globe. This Data is just a small sample of the actual netflix data.\n",
    "\n",
    "## About the Data\n",
    "\n",
    "The dataset comprises multiple attributes for each title, allowing for a rich exploration of its properties. Some key fields include **show_id**, **type** (movie or TV show), **title**, **director**, **cast**, **country**, **date added**, **release year**, **rating**, **duration**, **listed in** (genres), and **description**. This information collectively helps us identify patterns and trends in Netflix’s catalog — for instance, which genres are most popular, which countries produce the most content, or how the number of titles evolves over time. Analyzing this data can provide valuable perspectives for both the media industry and data practitioners.\n"
   ]
  },
  {
   "cell_type": "markdown",
   "id": "8cce92d9-033a-4406-b2fe-303a0205f34a",
   "metadata": {},
   "source": [
    "## Features (Independent Variables)\n",
    "\n",
    "- **Director** — The person who directed the production.\n",
    "- **Type** — Whether it's a Movie or TV Show.\n",
    "- **Release Year** — The year the production was released.\n",
    "- **Country** — The country where the production was made.\n",
    "- **Duration** — The length of the production (in minutes or number of episodes).\n",
    "- **Cast** — The main actors and contributors.\n",
    "- **Listed In** — The genres or categorizations of the production.\n",
    "- **Description** — A brief summary of the plot or content.\n",
    "\n",
    "## Target (Dependent Variable)\n",
    "\n",
    "- **Rating** — The rating assigned to the production (such as G, TV-14, R, etc.).\n",
    "---"
   ]
  },
  {
   "cell_type": "markdown",
   "id": "a4e57e96-d6d6-4939-a7fc-3347438747c5",
   "metadata": {},
   "source": [
    "## Problem Statement\n",
    "\n",
    "The **director of a production may influence its rating**. This study aims to investigate whether there is a significant relationship between the **director** and the **ratings** their films or TV shows receive. Analyzing this connection can provide valuable insight into the role that a filmmaker’s creative direction plays in the eventual reception and evaluation of their work.\n",
    "\n",
    "---"
   ]
  },
  {
   "cell_type": "markdown",
   "id": "cc435f15-f803-46d9-8932-1622494d7e66",
   "metadata": {},
   "source": [
    "## 📚 Contents\n",
    "\n",
    "### 1. Data Overview\n",
    "- Loading the Dataset\n",
    "- Raw View of the Data\n",
    "\n",
    "### 2. Data Cleaning\n",
    "- Checking the Shape of the Data\n",
    "- Checking for Outliers or Missing Values\n",
    "- Removing Missing Values\n",
    "- Data Type Check and Explanation\n",
    "\n",
    "### 3. Visualizations & Further Analysis\n",
    "- Count of TV Shows vs Movies\n",
    "- Visualizing Count of TV Shows vs Movies\n",
    "- Count-wise Top Directors\n",
    "- Rating-wise Distribution of Directors\n",
    "- Top 10 Number of Titles by Directors\n",
    "- Table of Top 10 Directors by Number of Each Type\n",
    "- Top 10 Countries by Productions\n",
    "- Top 10 Genres\n",
    "\n",
    "### 4. Analysis Report\n",
    "- Key Findings and Summary\n",
    "\n",
    "### 5. Conclusion\n",
    "\n",
    "------"
   ]
  },
  {
   "cell_type": "markdown",
   "id": "1689e2d5-7287-4f2c-9e94-8122cfafedd3",
   "metadata": {},
   "source": [
    "## 📐 Methodologies\n",
    "\n",
    "The analysis was conducted using a combination of Python libraries tailored for **data wrangling**, **visualization**, and **exploratory analysis**. Below are the tools and approaches used:\n",
    "\n",
    "- **`pandas`**:\n",
    "  - Utilized for **data loading**, **cleaning**, **filtering**, and **transformation**.\n",
    "  - Enabled structured manipulation of tabular data using DataFrames.\n",
    "  - Used to handle **missing values**, group and aggregate data (e.g., by director, rating, type).\n",
    "\n",
    "- **Visualization Libraries**:\n",
    "  - **`seaborn`**:\n",
    "    - Used for aesthetically pleasing **statistical plots** like count plots and boxplots.\n",
    "    - Helped identify trends and distributions (e.g., rating frequency).\n",
    "  - **`matplotlib`**:\n",
    "    - Served as the backbone for creating static visualizations.\n",
    "    - Useful for custom styling and axis adjustments.\n",
    "  - **`plotly`**:\n",
    "    - Provided **interactive plots**, especially for dashboards or clickable insights.\n",
    "    - Helped users explore data dynamically (e.g., director-wise interactive charts).\n",
    "\n",
    "- **Methodological Focus**:\n",
    "  - Analyzed **director influence** by grouping data based on `director` and `rating`.\n",
    "  - Filtered top contributors using **value counts** and **groupby-aggregation**.\n",
    "  - Applied **data cleaning techniques** to ensure valid interpretation, including:\n",
    "    - Dropping nulls\n",
    "    - Checking data types\n",
    "    - Removing duplicates\n",
    "\n",
    "---\n",
    "\n",
    "These methodologies together allowed for a comprehensive analysis of the question:  \n",
    "**\"Does the director of the production correlate to its rating?\"**\n"
   ]
  },
  {
   "cell_type": "markdown",
   "id": "7e8a4ddc-3ab3-4b94-a1bc-cad203ebadcd",
   "metadata": {},
   "source": [
    "# <b> Data Overview</b>"
   ]
  },
  {
   "cell_type": "markdown",
   "id": "8f48ad2d-e1d2-4c6f-a743-d6641e5285ee",
   "metadata": {},
   "source": [
    "Following below is a small chunk of data which is under our study. "
   ]
  },
  {
   "cell_type": "code",
   "execution_count": 2,
   "id": "96870c1f-d044-412c-9a4d-a042780484f6",
   "metadata": {},
   "outputs": [],
   "source": [
    "import pandas \n",
    "#loading data\n",
    "data = pandas.read_csv(\"/Users/hp/anaconda_projects/netflix_titles.csv\")"
   ]
  },
  {
   "cell_type": "code",
   "execution_count": 4,
   "id": "c2a756e6-bfb4-40c1-bc58-a52e26ad351d",
   "metadata": {},
   "outputs": [
    {
     "name": "stdout",
     "output_type": "stream",
     "text": [
      "  show_id     type                  title         director  \\\n",
      "0      s1    Movie   Dick Johnson Is Dead  Kirsten Johnson   \n",
      "1      s2  TV Show          Blood & Water              NaN   \n",
      "2      s3  TV Show              Ganglands  Julien Leclercq   \n",
      "3      s4  TV Show  Jailbirds New Orleans              NaN   \n",
      "4      s5  TV Show           Kota Factory              NaN   \n",
      "\n",
      "                                                cast        country  \\\n",
      "0                                                NaN  United States   \n",
      "1  Ama Qamata, Khosi Ngema, Gail Mabalane, Thaban...   South Africa   \n",
      "2  Sami Bouajila, Tracy Gotoas, Samuel Jouy, Nabi...            NaN   \n",
      "3                                                NaN            NaN   \n",
      "4  Mayur More, Jitendra Kumar, Ranjan Raj, Alam K...          India   \n",
      "\n",
      "  date_added release_year rating   duration  \\\n",
      "0  25-Sep-21    12-Jul-05  PG-13     90 min   \n",
      "1  24-Sep-21    13-Jul-05  TV-MA  2 Seasons   \n",
      "2  24-Sep-21    13-Jul-05  TV-MA   1 Season   \n",
      "3  24-Sep-21    13-Jul-05  TV-MA   1 Season   \n",
      "4  24-Sep-21    13-Jul-05  TV-MA  2 Seasons   \n",
      "\n",
      "                                           listed_in  \\\n",
      "0                                      Documentaries   \n",
      "1    International TV Shows, TV Dramas, TV Mysteries   \n",
      "2  Crime TV Shows, International TV Shows, TV Act...   \n",
      "3                             Docuseries, Reality TV   \n",
      "4  International TV Shows, Romantic TV Shows, TV ...   \n",
      "\n",
      "                                         description  \n",
      "0  As her father nears the end of his life, filmm...  \n",
      "1  After crossing paths at a party, a Cape Town t...  \n",
      "2  To protect his family from a powerful drug lor...  \n",
      "3  Feuds, flirtations and toilet talk go down amo...  \n",
      "4  In a city of coaching centers known to train I...  \n"
     ]
    }
   ],
   "source": [
    "# conversion in data frame.\n",
    "df = pandas.DataFrame(data)\n",
    "# basic exploration of first 5 rows.\n",
    "print(df.head())"
   ]
  },
  {
   "cell_type": "markdown",
   "id": "c14e2b77-9531-4f28-aded-f89b7f61d224",
   "metadata": {},
   "source": [
    "# Data Cleaning "
   ]
  },
  {
   "cell_type": "markdown",
   "id": "683dce94-4290-4426-9e58-d35a174e9003",
   "metadata": {},
   "source": [
    "## 1. Shape of data:"
   ]
  },
  {
   "cell_type": "code",
   "execution_count": 8,
   "id": "e84941ec-4493-4980-b01f-a0df31c340f6",
   "metadata": {},
   "outputs": [
    {
     "name": "stdout",
     "output_type": "stream",
     "text": [
      "(8807, 12)\n"
     ]
    }
   ],
   "source": [
    "print(df.shape)"
   ]
  },
  {
   "cell_type": "markdown",
   "id": "77a0e6e6-4413-494f-a7cf-cc0001f511f4",
   "metadata": {},
   "source": [
    "The data under study consists of :\n",
    "  - *8807* rows\n",
    "  - *12* Columns"
   ]
  },
  {
   "cell_type": "markdown",
   "id": "233cfcd4-e9da-4881-9381-8893f652ab0e",
   "metadata": {},
   "source": [
    "## 2. Missing Valus check"
   ]
  },
  {
   "cell_type": "code",
   "execution_count": 12,
   "id": "37e7f48d-32fe-4bde-b84e-5da9251c0c15",
   "metadata": {},
   "outputs": [
    {
     "name": "stdout",
     "output_type": "stream",
     "text": [
      "show_id            0\n",
      "type               0\n",
      "title              0\n",
      "director        2634\n",
      "cast             825\n",
      "country          831\n",
      "date_added        10\n",
      "release_year       0\n",
      "rating             4\n",
      "duration           3\n",
      "listed_in          0\n",
      "description        0\n",
      "dtype: int64\n"
     ]
    }
   ],
   "source": [
    "print(df.isnull().sum())"
   ]
  },
  {
   "cell_type": "markdown",
   "id": "d632a1e9-2b2f-48de-aa94-b3a6f5ee5f99",
   "metadata": {},
   "source": [
    " as  many missing values are found in *director, cast, country, date_added, rating & duration*. We will drop these values so that we can have a clean data set."
   ]
  },
  {
   "cell_type": "code",
   "execution_count": 15,
   "id": "5d75b1fe-9973-4ce6-9390-33921678e1f5",
   "metadata": {},
   "outputs": [],
   "source": [
    "df = df.dropna()"
   ]
  },
  {
   "cell_type": "markdown",
   "id": "9770e4a1-9cc1-48b6-81ff-823fb15d910d",
   "metadata": {},
   "source": [
    "## Data Type check of DataFrame"
   ]
  },
  {
   "cell_type": "code",
   "execution_count": 18,
   "id": "227980cb-8519-4324-9e7e-c9b55b4fe240",
   "metadata": {},
   "outputs": [
    {
     "name": "stdout",
     "output_type": "stream",
     "text": [
      "<class 'pandas.core.frame.DataFrame'>\n",
      "Index: 5332 entries, 7 to 8806\n",
      "Data columns (total 12 columns):\n",
      " #   Column        Non-Null Count  Dtype \n",
      "---  ------        --------------  ----- \n",
      " 0   show_id       5332 non-null   object\n",
      " 1   type          5332 non-null   object\n",
      " 2   title         5332 non-null   object\n",
      " 3   director      5332 non-null   object\n",
      " 4   cast          5332 non-null   object\n",
      " 5   country       5332 non-null   object\n",
      " 6   date_added    5332 non-null   object\n",
      " 7   release_year  5332 non-null   object\n",
      " 8   rating        5332 non-null   object\n",
      " 9   duration      5332 non-null   object\n",
      " 10  listed_in     5332 non-null   object\n",
      " 11  description   5332 non-null   object\n",
      "dtypes: object(12)\n",
      "memory usage: 541.5+ KB\n",
      "None\n"
     ]
    }
   ],
   "source": [
    "print(df.info())"
   ]
  },
  {
   "cell_type": "markdown",
   "id": "11f56a7a-d88a-4b50-8dd0-b39df87c1fa7",
   "metadata": {},
   "source": [
    "## 📊 DataFrame Summary\n",
    "\n",
    "This DataFrame contains **5,332 entries** with **12 columns** of information about Netflix shows and movies. Each row typically refers to a single show or movie, with details ranging from its title to its country of origin. Some columns have missing values, especially for the `director` and `cast`.\n",
    "\n",
    "- **Total Rows:** 5332\n",
    "- **Columns:** 12\n",
    "- **Column Types:** Mostly object (strings)\n",
    "- **Notable Columns:** `show_id`, `type`, `title`, `director`, `cast`, `country`\n"
   ]
  },
  {
   "cell_type": "markdown",
   "id": "aa4e3b69-9137-43df-b559-dbba0f0d6bcf",
   "metadata": {},
   "source": [
    "**Now that there are no Missing Values , We can proceed to further exploration of Data**."
   ]
  },
  {
   "cell_type": "markdown",
   "id": "c48399a1-f9cf-4884-a880-d323df748d24",
   "metadata": {},
   "source": [
    "# Further Analysis :"
   ]
  },
  {
   "cell_type": "code",
   "execution_count": 24,
   "id": "b128a812-4902-4f55-a90e-6f4b89d3c6c3",
   "metadata": {},
   "outputs": [
    {
     "name": "stdout",
     "output_type": "stream",
     "text": [
      "type\n",
      "Movie      5185\n",
      "TV Show     147\n",
      "Name: count, dtype: int64\n"
     ]
    }
   ],
   "source": [
    "# checking type (movies vs TV shows)\n",
    "print(df[\"type\"].value_counts())"
   ]
  },
  {
   "cell_type": "markdown",
   "id": "0349a86b-a0e4-4d4f-8a78-f76c2cf70923",
   "metadata": {},
   "source": [
    "Our Cleaned dataset Now consist of **5185 Movies & 147 Tv Shows**"
   ]
  },
  {
   "cell_type": "markdown",
   "id": "e630be0a-ca2b-4969-a90e-144d108aa9e0",
   "metadata": {},
   "source": [
    "# Visualising Data to Uncover the Insights"
   ]
  },
  {
   "cell_type": "markdown",
   "id": "88e3fdd0-d0cf-42f9-a1e5-0956a5800af0",
   "metadata": {},
   "source": [
    "### 📊 Justification for Using Bar Charts\n",
    "\n",
    "Bar charts were chosen as the primary visualization tool in this analysis due to their clarity, simplicity, and effectiveness in comparing categorical data. Given that much of the Netflix dataset includes **discrete variables** such as content type (Movie/TV Show), director names, genres, and ratings, bar charts offer a straightforward way to illustrate **frequency distributions** and **comparative magnitudes**. Specifically, horizontal bar charts (`barh`) were employed to accommodate **long categorical labels** (e.g., director or country names) which are better displayed horizontally to maintain readability. These charts help the audience **quickly identify trends**, such as which directors have the most titles, or which ratings are most prevalent, without overwhelming them with excessive visual complexity. Bar charts also enable **rank-ordering**, making it easier to highlight top contributors (e.g., top 10 directors by number of titles). By maintaining consistency in chart type across different variables, the visual language of the report remains unified and easy to interpret, supporting effective communication of key insights throughout the analysis.\n",
    "\n",
    "---"
   ]
  },
  {
   "cell_type": "markdown",
   "id": "1e9c945f-c168-4fe5-bb12-955e7a2ba71f",
   "metadata": {},
   "source": [
    "## Distribution of Movies Vs TV shows"
   ]
  },
  {
   "cell_type": "code",
   "execution_count": 34,
   "id": "477d78da-b943-4408-9a75-f62095d3426a",
   "metadata": {},
   "outputs": [
    {
     "data": {
      "image/png": "[encoded data removed]",
      "text/plain": [
       "<Figure size 600x400 with 1 Axes>"
      ]
     },
     "metadata": {},
     "output_type": "display_data"
    }
   ],
   "source": [
    "import seaborn as sns\n",
    "import matplotlib.pyplot as plt\n",
    "# Set style\n",
    "sns.set_style(\"darkgrid\")\n",
    "\n",
    "# Plot Movie vs TV Show distribution\n",
    "plt.figure(figsize=(6, 4))\n",
    "sns.countplot(data=df, x=\"type\", palette=\"pastel\", hue=\"type\")\n",
    "plt.title(\"Distribution of Movies vs TV Shows\")\n",
    "plt.xlabel(\"Content Type\")\n",
    "plt.ylabel(\"Count\")\n",
    "plt.show()"
   ]
  },
  {
   "cell_type": "markdown",
   "id": "abeafc23-21ba-4471-9cb8-b3a12d1af5ef",
   "metadata": {},
   "source": [
    "This barchart shows that Movies are produced more Frequently than TV shows and in our dataset, we have a noticeablly larger amount of **movies** than TV **Shows**."
   ]
  },
  {
   "cell_type": "markdown",
   "id": "94599098-74b4-4475-8e6f-7afa16e7d593",
   "metadata": {},
   "source": [
    "## Count Wise Top_Directors\n",
    "We will use barchart for this again because it is convenient to show count with a cetgorical variable."
   ]
  },
  {
   "cell_type": "code",
   "execution_count": 70,
   "id": "401ea9ea-0fab-45b1-9ca4-cf26cf3c4a16",
   "metadata": {},
   "outputs": [
    {
     "data": {
      "image/png": "[encoded data removed]",
      "text/plain": [
       "<Figure size 600x400 with 1 Axes>"
      ]
     },
     "metadata": {},
     "output_type": "display_data"
    }
   ],
   "source": [
    "# Import libraries\n",
    "import matplotlib.pyplot as plt\n",
    "import seaborn as sns\n",
    "\n",
    "# Top 10 Directors by Count\n",
    "directors = df[\"director\"].value_counts().head(10).index\n",
    "\n",
    "# Filter DataFrame for Top 10 Directors\n",
    "filtered_df = df[df[\"director\"].isin(directors)]\n",
    "\n",
    "# Plot Count of Top 10 Directors\n",
    "sns.set_style(\"darkgrid\")\n",
    "plt.figure(figsize=(6, 4))\n",
    "ax = sns.countplot(data=filtered_df, x='director', palette='pastel',hue=\"director\", order=directors)\n",
    "ax.set_title(\"Count Wise Top Directors\")\n",
    "ax.set_xlabel(\"Director\")\n",
    "ax.set_ylabel(\"Count\")\n",
    "ax.tick_params(axis='x', rotation=90)\n",
    "\n",
    "plt.tight_layout()\n",
    "plt.show()\n"
   ]
  },
  {
   "cell_type": "markdown",
   "id": "4fcf133c-eb27-4c1d-a83a-25bb22920314",
   "metadata": {},
   "source": [
    "## 📈 Interpretation of Top 10 Directors Plot\n",
    "\n",
    "This bar chart displays the **10 most frequently occurring Directors** in the dataset.  \n",
    "Each bar's length corresponds to the number of shows or movies that the respective director has contributed to.  \n",
    "This helps us identify the most prolific filmmakers within the Netflix catalog.\n",
    "\n",
    "- The **directors with the highest count** are the ones who have been involved in **directing multiple productions**.\n",
    "- This may indicate their popularity, expertise, or ongoing collaborations with Netflix.\n",
    "- Analyzing this can aid in understanding industry trends, distinguishing frequently hired talent, or guiding further exploration into their work."
   ]
  },
  {
   "cell_type": "markdown",
   "id": "a23747fe-67c5-40d0-be30-6f6474796b6c",
   "metadata": {},
   "source": [
    "## Rating Wise Distribution of Directors"
   ]
  },
  {
   "cell_type": "code",
   "execution_count": 42,
   "id": "18c2a7d3-42e6-4a7b-bbbd-22badc55b18d",
   "metadata": {},
   "outputs": [
    {
     "data": {
      "application/vnd.plotly.v1+json": {
       "config": {
        "plotlyServerURL": "https://plot.ly"
       },
       "data": [
        {
         "alignmentgroup": "True",
         "hovertemplate": "Director=Rajiv Chilaka<br>Rating=%{x}<br>count=%{y}<extra></extra>",
         "legendgroup": "Rajiv Chilaka",
         "marker": {
          "color": "#636efa",
          "pattern": {
           "shape": ""
          }
         },
         "name": "Rajiv Chilaka",
         "offsetgroup": "Rajiv Chilaka",
         "orientation": "v",
         "showlegend": true,
         "textposition": "auto",
         "type": "bar",
         "x": [
          "TV-Y7",
          "TV-Y7",
          "TV-Y7",
          "TV-Y7",
          "TV-Y7",
          "TV-Y7",
          "TV-Y7",
          "TV-Y7",
          "TV-Y7",
          "TV-Y7",
          "TV-Y7",
          "TV-Y7",
          "TV-Y7",
          "TV-Y7",
          "TV-Y7",
          "TV-Y7",
          "TV-Y7",
          "TV-Y",
          "TV-Y"
         ],
         "xaxis": "x",
         "y": [
          1,
          1,
          1,
          1,
          1,
          1,
          1,
          1,
          1,
          1,
          1,
          1,
          1,
          1,
          1,
          1,
          1,
          1,
          1
         ],
         "yaxis": "y"
        },
        {
         "alignmentgroup": "True",
         "hovertemplate": "Director=Suhas Kadav<br>Rating=%{x}<br>count=%{y}<extra></extra>",
         "legendgroup": "Suhas Kadav",
         "marker": {
          "color": "#EF553B",
          "pattern": {
           "shape": ""
          }
         },
         "name": "Suhas Kadav",
         "offsetgroup": "Suhas Kadav",
         "orientation": "v",
         "showlegend": true,
         "textposition": "auto",
         "type": "bar",
         "x": [
          "TV-Y7",
          "TV-Y7",
          "TV-Y7",
          "TV-Y7",
          "TV-Y7",
          "TV-Y7",
          "TV-Y",
          "TV-Y",
          "TV-Y7",
          "TV-Y7",
          "TV-Y7",
          "TV-Y7",
          "TV-Y7",
          "TV-Y7",
          "TV-Y",
          "TV-Y7-FV"
         ],
         "xaxis": "x",
         "y": [
          1,
          1,
          1,
          1,
          1,
          1,
          1,
          1,
          1,
          1,
          1,
          1,
          1,
          1,
          1,
          1
         ],
         "yaxis": "y"
        },
        {
         "alignmentgroup": "True",
         "hovertemplate": "Director=Marcus Raboy<br>Rating=%{x}<br>count=%{y}<extra></extra>",
         "legendgroup": "Marcus Raboy",
         "marker": {
          "color": "#00cc96",
          "pattern": {
           "shape": ""
          }
         },
         "name": "Marcus Raboy",
         "offsetgroup": "Marcus Raboy",
         "orientation": "v",
         "showlegend": true,
         "textposition": "auto",
         "type": "bar",
         "x": [
          "TV-MA",
          "TV-MA",
          "TV-MA",
          "TV-14",
          "TV-MA",
          "TV-MA",
          "TV-MA",
          "TV-14",
          "TV-MA",
          "TV-MA",
          "TV-MA",
          "TV-14",
          "TV-MA",
          "TV-MA",
          "TV-MA",
          "TV-MA"
         ],
         "xaxis": "x",
         "y": [
          1,
          1,
          1,
          1,
          1,
          1,
          1,
          1,
          1,
          1,
          1,
          1,
          1,
          1,
          1,
          1
         ],
         "yaxis": "y"
        },
        {
         "alignmentgroup": "True",
         "hovertemplate": "Director=Jay Karas<br>Rating=%{x}<br>count=%{y}<extra></extra>",
         "legendgroup": "Jay Karas",
         "marker": {
          "color": "#ab63fa",
          "pattern": {
           "shape": ""
          }
         },
         "name": "Jay Karas",
         "offsetgroup": "Jay Karas",
         "orientation": "v",
         "showlegend": true,
         "textposition": "auto",
         "type": "bar",
         "x": [
          "TV-G",
          "TV-MA",
          "TV-MA",
          "TV-MA",
          "TV-MA",
          "TV-MA",
          "TV-MA",
          "TV-14",
          "TV-14",
          "TV-MA",
          "TV-MA",
          "TV-14",
          "TV-MA",
          "TV-MA"
         ],
         "xaxis": "x",
         "y": [
          1,
          1,
          1,
          1,
          1,
          1,
          1,
          1,
          1,
          1,
          1,
          1,
          1,
          1
         ],
         "yaxis": "y"
        },
        {
         "alignmentgroup": "True",
         "hovertemplate": "Director=Raúl Campos, Jan Suter<br>Rating=%{x}<br>count=%{y}<extra></extra>",
         "legendgroup": "Raúl Campos, Jan Suter",
         "marker": {
          "color": "#FFA15A",
          "pattern": {
           "shape": ""
          }
         },
         "name": "Raúl Campos, Jan Suter",
         "offsetgroup": "Raúl Campos, Jan Suter",
         "orientation": "v",
         "showlegend": true,
         "textposition": "auto",
         "type": "bar",
         "x": [
          "TV-MA",
          "TV-14",
          "TV-MA",
          "TV-MA",
          "TV-MA",
          "TV-MA",
          "TV-MA",
          "TV-MA",
          "TV-MA",
          "TV-MA",
          "TV-MA",
          "TV-MA",
          "TV-MA",
          "TV-MA",
          "TV-MA",
          "TV-MA",
          "TV-MA",
          "TV-MA"
         ],
         "xaxis": "x",
         "y": [
          1,
          1,
          1,
          1,
          1,
          1,
          1,
          1,
          1,
          1,
          1,
          1,
          1,
          1,
          1,
          1,
          1,
          1
         ],
         "yaxis": "y"
        }
       ],
       "layout": {
        "autosize": true,
        "barmode": "group",
        "legend": {
         "title": {
          "text": "Director"
         },
         "tracegroupgap": 0
        },
        "template": {
         "data": {
          "bar": [
           {
            "error_x": {
             "color": "#2a3f5f"
            },
            "error_y": {
             "color": "#2a3f5f"
            },
            "marker": {
             "line": {
              "color": "#E5ECF6",
              "width": 0.5
             },
             "pattern": {
              "fillmode": "overlay",
              "size": 10,
              "solidity": 0.2
             }
            },
            "type": "bar"
           }
          ],
          "barpolar": [
           {
            "marker": {
             "line": {
              "color": "#E5ECF6",
              "width": 0.5
             },
             "pattern": {
              "fillmode": "overlay",
              "size": 10,
              "solidity": 0.2
             }
            },
            "type": "barpolar"
           }
          ],
          "carpet": [
           {
            "aaxis": {
             "endlinecolor": "#2a3f5f",
             "gridcolor": "white",
             "linecolor": "white",
             "minorgridcolor": "white",
             "startlinecolor": "#2a3f5f"
            },
            "baxis": {
             "endlinecolor": "#2a3f5f",
             "gridcolor": "white",
             "linecolor": "white",
             "minorgridcolor": "white",
             "startlinecolor": "#2a3f5f"
            },
            "type": "carpet"
           }
          ],
          "choropleth": [
           {
            "colorbar": {
             "outlinewidth": 0,
             "ticks": ""
            },
            "type": "choropleth"
           }
          ],
          "contour": [
           {
            "colorbar": {
             "outlinewidth": 0,
             "ticks": ""
            },
            "colorscale": [
             [
              0,
              "#0d0887"
             ],
             [
              0.1111111111111111,
              "#46039f"
             ],
             [
              0.2222222222222222,
              "#7201a8"
             ],
             [
              0.3333333333333333,
              "#9c179e"
             ],
             [
              0.4444444444444444,
              "#bd3786"
             ],
             [
              0.5555555555555556,
              "#d8576b"
             ],
             [
              0.6666666666666666,
              "#ed7953"
             ],
             [
              0.7777777777777778,
              "#fb9f3a"
             ],
             [
              0.8888888888888888,
              "#fdca26"
             ],
             [
              1,
              "#f0f921"
             ]
            ],
            "type": "contour"
           }
          ],
          "contourcarpet": [
           {
            "colorbar": {
             "outlinewidth": 0,
             "ticks": ""
            },
            "type": "contourcarpet"
           }
          ],
          "heatmap": [
           {
            "colorbar": {
             "outlinewidth": 0,
             "ticks": ""
            },
            "colorscale": [
             [
              0,
              "#0d0887"
             ],
             [
              0.1111111111111111,
              "#46039f"
             ],
             [
              0.2222222222222222,
              "#7201a8"
             ],
             [
              0.3333333333333333,
              "#9c179e"
             ],
             [
              0.4444444444444444,
              "#bd3786"
             ],
             [
              0.5555555555555556,
              "#d8576b"
             ],
             [
              0.6666666666666666,
              "#ed7953"
             ],
             [
              0.7777777777777778,
              "#fb9f3a"
             ],
             [
              0.8888888888888888,
              "#fdca26"
             ],
             [
              1,
              "#f0f921"
             ]
            ],
            "type": "heatmap"
           }
          ],
          "heatmapgl": [
           {
            "colorbar": {
             "outlinewidth": 0,
             "ticks": ""
            },
            "colorscale": [
             [
              0,
              "#0d0887"
             ],
             [
              0.1111111111111111,
              "#46039f"
             ],
             [
              0.2222222222222222,
              "#7201a8"
             ],
             [
              0.3333333333333333,
              "#9c179e"
             ],
             [
              0.4444444444444444,
              "#bd3786"
             ],
             [
              0.5555555555555556,
              "#d8576b"
             ],
             [
              0.6666666666666666,
              "#ed7953"
             ],
             [
              0.7777777777777778,
              "#fb9f3a"
             ],
             [
              0.8888888888888888,
              "#fdca26"
             ],
             [
              1,
              "#f0f921"
             ]
            ],
            "type": "heatmapgl"
           }
          ],
          "histogram": [
           {
            "marker": {
             "pattern": {
              "fillmode": "overlay",
              "size": 10,
              "solidity": 0.2
             }
            },
            "type": "histogram"
           }
          ],
          "histogram2d": [
           {
            "colorbar": {
             "outlinewidth": 0,
             "ticks": ""
            },
            "colorscale": [
             [
              0,
              "#0d0887"
             ],
             [
              0.1111111111111111,
              "#46039f"
             ],
             [
              0.2222222222222222,
              "#7201a8"
             ],
             [
              0.3333333333333333,
              "#9c179e"
             ],
             [
              0.4444444444444444,
              "#bd3786"
             ],
             [
              0.5555555555555556,
              "#d8576b"
             ],
             [
              0.6666666666666666,
              "#ed7953"
             ],
             [
              0.7777777777777778,
              "#fb9f3a"
             ],
             [
              0.8888888888888888,
              "#fdca26"
             ],
             [
              1,
              "#f0f921"
             ]
            ],
            "type": "histogram2d"
           }
          ],
          "histogram2dcontour": [
           {
            "colorbar": {
             "outlinewidth": 0,
             "ticks": ""
            },
            "colorscale": [
             [
              0,
              "#0d0887"
             ],
             [
              0.1111111111111111,
              "#46039f"
             ],
             [
              0.2222222222222222,
              "#7201a8"
             ],
             [
              0.3333333333333333,
              "#9c179e"
             ],
             [
              0.4444444444444444,
              "#bd3786"
             ],
             [
              0.5555555555555556,
              "#d8576b"
             ],
             [
              0.6666666666666666,
              "#ed7953"
             ],
             [
              0.7777777777777778,
              "#fb9f3a"
             ],
             [
              0.8888888888888888,
              "#fdca26"
             ],
             [
              1,
              "#f0f921"
             ]
            ],
            "type": "histogram2dcontour"
           }
          ],
          "mesh3d": [
           {
            "colorbar": {
             "outlinewidth": 0,
             "ticks": ""
            },
            "type": "mesh3d"
           }
          ],
          "parcoords": [
           {
            "line": {
             "colorbar": {
              "outlinewidth": 0,
              "ticks": ""
             }
            },
            "type": "parcoords"
           }
          ],
          "pie": [
           {
            "automargin": true,
            "type": "pie"
           }
          ],
          "scatter": [
           {
            "fillpattern": {
             "fillmode": "overlay",
             "size": 10,
             "solidity": 0.2
            },
            "type": "scatter"
           }
          ],
          "scatter3d": [
           {
            "line": {
             "colorbar": {
              "outlinewidth": 0,
              "ticks": ""
             }
            },
            "marker": {
             "colorbar": {
              "outlinewidth": 0,
              "ticks": ""
             }
            },
            "type": "scatter3d"
           }
          ],
          "scattercarpet": [
           {
            "marker": {
             "colorbar": {
              "outlinewidth": 0,
              "ticks": ""
             }
            },
            "type": "scattercarpet"
           }
          ],
          "scattergeo": [
           {
            "marker": {
             "colorbar": {
              "outlinewidth": 0,
              "ticks": ""
             }
            },
            "type": "scattergeo"
           }
          ],
          "scattergl": [
           {
            "marker": {
             "colorbar": {
              "outlinewidth": 0,
              "ticks": ""
             }
            },
            "type": "scattergl"
           }
          ],
          "scattermapbox": [
           {
            "marker": {
             "colorbar": {
              "outlinewidth": 0,
              "ticks": ""
             }
            },
            "type": "scattermapbox"
           }
          ],
          "scatterpolar": [
           {
            "marker": {
             "colorbar": {
              "outlinewidth": 0,
              "ticks": ""
             }
            },
            "type": "scatterpolar"
           }
          ],
          "scatterpolargl": [
           {
            "marker": {
             "colorbar": {
              "outlinewidth": 0,
              "ticks": ""
             }
            },
            "type": "scatterpolargl"
           }
          ],
          "scatterternary": [
           {
            "marker": {
             "colorbar": {
              "outlinewidth": 0,
              "ticks": ""
             }
            },
            "type": "scatterternary"
           }
          ],
          "surface": [
           {
            "colorbar": {
             "outlinewidth": 0,
             "ticks": ""
            },
            "colorscale": [
             [
              0,
              "#0d0887"
             ],
             [
              0.1111111111111111,
              "#46039f"
             ],
             [
              0.2222222222222222,
              "#7201a8"
             ],
             [
              0.3333333333333333,
              "#9c179e"
             ],
             [
              0.4444444444444444,
              "#bd3786"
             ],
             [
              0.5555555555555556,
              "#d8576b"
             ],
             [
              0.6666666666666666,
              "#ed7953"
             ],
             [
              0.7777777777777778,
              "#fb9f3a"
             ],
             [
              0.8888888888888888,
              "#fdca26"
             ],
             [
              1,
              "#f0f921"
             ]
            ],
            "type": "surface"
           }
          ],
          "table": [
           {
            "cells": {
             "fill": {
              "color": "#EBF0F8"
             },
             "line": {
              "color": "white"
             }
            },
            "header": {
             "fill": {
              "color": "#C8D4E3"
             },
             "line": {
              "color": "white"
             }
            },
            "type": "table"
           }
          ]
         },
         "layout": {
          "annotationdefaults": {
           "arrowcolor": "#2a3f5f",
           "arrowhead": 0,
           "arrowwidth": 1
          },
          "autotypenumbers": "strict",
          "coloraxis": {
           "colorbar": {
            "outlinewidth": 0,
            "ticks": ""
           }
          },
          "colorscale": {
           "diverging": [
            [
             0,
             "#8e0152"
            ],
            [
             0.1,
             "#c51b7d"
            ],
            [
             0.2,
             "#de77ae"
            ],
            [
             0.3,
             "#f1b6da"
            ],
            [
             0.4,
             "#fde0ef"
            ],
            [
             0.5,
             "#f7f7f7"
            ],
            [
             0.6,
             "#e6f5d0"
            ],
            [
             0.7,
             "#b8e186"
            ],
            [
             0.8,
             "#7fbc41"
            ],
            [
             0.9,
             "#4d9221"
            ],
            [
             1,
             "#276419"
            ]
           ],
           "sequential": [
            [
             0,
             "#0d0887"
            ],
            [
             0.1111111111111111,
             "#46039f"
            ],
            [
             0.2222222222222222,
             "#7201a8"
            ],
            [
             0.3333333333333333,
             "#9c179e"
            ],
            [
             0.4444444444444444,
             "#bd3786"
            ],
            [
             0.5555555555555556,
             "#d8576b"
            ],
            [
             0.6666666666666666,
             "#ed7953"
            ],
            [
             0.7777777777777778,
             "#fb9f3a"
            ],
            [
             0.8888888888888888,
             "#fdca26"
            ],
            [
             1,
             "#f0f921"
            ]
           ],
           "sequentialminus": [
            [
             0,
             "#0d0887"
            ],
            [
             0.1111111111111111,
             "#46039f"
            ],
            [
             0.2222222222222222,
             "#7201a8"
            ],
            [
             0.3333333333333333,
             "#9c179e"
            ],
            [
             0.4444444444444444,
             "#bd3786"
            ],
            [
             0.5555555555555556,
             "#d8576b"
            ],
            [
             0.6666666666666666,
             "#ed7953"
            ],
            [
             0.7777777777777778,
             "#fb9f3a"
            ],
            [
             0.8888888888888888,
             "#fdca26"
            ],
            [
             1,
             "#f0f921"
            ]
           ]
          },
          "colorway": [
           "#636efa",
           "#EF553B",
           "#00cc96",
           "#ab63fa",
           "#FFA15A",
           "#19d3f3",
           "#FF6692",
           "#B6E880",
           "#FF97FF",
           "#FECB52"
          ],
          "font": {
           "color": "#2a3f5f"
          },
          "geo": {
           "bgcolor": "white",
           "lakecolor": "white",
           "landcolor": "#E5ECF6",
           "showlakes": true,
           "showland": true,
           "subunitcolor": "white"
          },
          "hoverlabel": {
           "align": "left"
          },
          "hovermode": "closest",
          "mapbox": {
           "style": "light"
          },
          "paper_bgcolor": "white",
          "plot_bgcolor": "#E5ECF6",
          "polar": {
           "angularaxis": {
            "gridcolor": "white",
            "linecolor": "white",
            "ticks": ""
           },
           "bgcolor": "#E5ECF6",
           "radialaxis": {
            "gridcolor": "white",
            "linecolor": "white",
            "ticks": ""
           }
          },
          "scene": {
           "xaxis": {
            "backgroundcolor": "#E5ECF6",
            "gridcolor": "white",
            "gridwidth": 2,
            "linecolor": "white",
            "showbackground": true,
            "ticks": "",
            "zerolinecolor": "white"
           },
           "yaxis": {
            "backgroundcolor": "#E5ECF6",
            "gridcolor": "white",
            "gridwidth": 2,
            "linecolor": "white",
            "showbackground": true,
            "ticks": "",
            "zerolinecolor": "white"
           },
           "zaxis": {
            "backgroundcolor": "#E5ECF6",
            "gridcolor": "white",
            "gridwidth": 2,
            "linecolor": "white",
            "showbackground": true,
            "ticks": "",
            "zerolinecolor": "white"
           }
          },
          "shapedefaults": {
           "line": {
            "color": "#2a3f5f"
           }
          },
          "ternary": {
           "aaxis": {
            "gridcolor": "white",
            "linecolor": "white",
            "ticks": ""
           },
           "baxis": {
            "gridcolor": "white",
            "linecolor": "white",
            "ticks": ""
           },
           "bgcolor": "#E5ECF6",
           "caxis": {
            "gridcolor": "white",
            "linecolor": "white",
            "ticks": ""
           }
          },
          "title": {
           "x": 0.05
          },
          "xaxis": {
           "automargin": true,
           "gridcolor": "white",
           "linecolor": "white",
           "ticks": "",
           "title": {
            "standoff": 15
           },
           "zerolinecolor": "white",
           "zerolinewidth": 2
          },
          "yaxis": {
           "automargin": true,
           "gridcolor": "white",
           "linecolor": "white",
           "ticks": "",
           "title": {
            "standoff": 15
           },
           "zerolinecolor": "white",
           "zerolinewidth": 2
          }
         }
        },
        "title": {
         "text": "Distribution of Ratings for Top 5 Directors"
        },
        "xaxis": {
         "anchor": "y",
         "autorange": true,
         "domain": [
          0,
          1
         ],
         "range": [
          -0.5,
          5.5
         ],
         "title": {
          "text": "Rating"
         },
         "type": "category"
        },
        "yaxis": {
         "anchor": "x",
         "autorange": true,
         "domain": [
          0,
          1
         ],
         "range": [
          0,
          17.894736842105264
         ],
         "title": {
          "text": "count"
         },
         "type": "linear"
        }
       }
      },
      "image/png": "[encoded data removed]",
      "text/html": [
       "<div>                            <div id=\"306a178e-fe76-412f-a4b2-1e1b845063f5\" class=\"plotly-graph-div\" style=\"height:525px; width:100%;\"></div>            <script type=\"text/javascript\">                require([\"plotly\"], function(Plotly) {                    window.PLOTLYENV=window.PLOTLYENV || {};                                    if (document.getElementById(\"306a178e-fe76-412f-a4b2-1e1b845063f5\")) {                    Plotly.newPlot(                        \"306a178e-fe76-412f-a4b2-1e1b845063f5\",                        [{\"alignmentgroup\":\"True\",\"hovertemplate\":\"Director=Rajiv Chilaka\\u003cbr\\u003eRating=%{x}\\u003cbr\\u003ecount=%{y}\\u003cextra\\u003e\\u003c\\u002fextra\\u003e\",\"legendgroup\":\"Rajiv Chilaka\",\"marker\":{\"color\":\"#636efa\",\"pattern\":{\"shape\":\"\"}},\"name\":\"Rajiv Chilaka\",\"offsetgroup\":\"Rajiv Chilaka\",\"orientation\":\"v\",\"showlegend\":true,\"textposition\":\"auto\",\"x\":[\"TV-Y7\",\"TV-Y7\",\"TV-Y7\",\"TV-Y7\",\"TV-Y7\",\"TV-Y7\",\"TV-Y7\",\"TV-Y7\",\"TV-Y7\",\"TV-Y7\",\"TV-Y7\",\"TV-Y7\",\"TV-Y7\",\"TV-Y7\",\"TV-Y7\",\"TV-Y7\",\"TV-Y7\",\"TV-Y\",\"TV-Y\"],\"xaxis\":\"x\",\"y\":[1,1,1,1,1,1,1,1,1,1,1,1,1,1,1,1,1,1,1],\"yaxis\":\"y\",\"type\":\"bar\"},{\"alignmentgroup\":\"True\",\"hovertemplate\":\"Director=Suhas Kadav\\u003cbr\\u003eRating=%{x}\\u003cbr\\u003ecount=%{y}\\u003cextra\\u003e\\u003c\\u002fextra\\u003e\",\"legendgroup\":\"Suhas Kadav\",\"marker\":{\"color\":\"#EF553B\",\"pattern\":{\"shape\":\"\"}},\"name\":\"Suhas Kadav\",\"offsetgroup\":\"Suhas Kadav\",\"orientation\":\"v\",\"showlegend\":true,\"textposition\":\"auto\",\"x\":[\"TV-Y7\",\"TV-Y7\",\"TV-Y7\",\"TV-Y7\",\"TV-Y7\",\"TV-Y7\",\"TV-Y\",\"TV-Y\",\"TV-Y7\",\"TV-Y7\",\"TV-Y7\",\"TV-Y7\",\"TV-Y7\",\"TV-Y7\",\"TV-Y\",\"TV-Y7-FV\"],\"xaxis\":\"x\",\"y\":[1,1,1,1,1,1,1,1,1,1,1,1,1,1,1,1],\"yaxis\":\"y\",\"type\":\"bar\"},{\"alignmentgroup\":\"True\",\"hovertemplate\":\"Director=Marcus Raboy\\u003cbr\\u003eRating=%{x}\\u003cbr\\u003ecount=%{y}\\u003cextra\\u003e\\u003c\\u002fextra\\u003e\",\"legendgroup\":\"Marcus Raboy\",\"marker\":{\"color\":\"#00cc96\",\"pattern\":{\"shape\":\"\"}},\"name\":\"Marcus Raboy\",\"offsetgroup\":\"Marcus Raboy\",\"orientation\":\"v\",\"showlegend\":true,\"textposition\":\"auto\",\"x\":[\"TV-MA\",\"TV-MA\",\"TV-MA\",\"TV-14\",\"TV-MA\",\"TV-MA\",\"TV-MA\",\"TV-14\",\"TV-MA\",\"TV-MA\",\"TV-MA\",\"TV-14\",\"TV-MA\",\"TV-MA\",\"TV-MA\",\"TV-MA\"],\"xaxis\":\"x\",\"y\":[1,1,1,1,1,1,1,1,1,1,1,1,1,1,1,1],\"yaxis\":\"y\",\"type\":\"bar\"},{\"alignmentgroup\":\"True\",\"hovertemplate\":\"Director=Jay Karas\\u003cbr\\u003eRating=%{x}\\u003cbr\\u003ecount=%{y}\\u003cextra\\u003e\\u003c\\u002fextra\\u003e\",\"legendgroup\":\"Jay Karas\",\"marker\":{\"color\":\"#ab63fa\",\"pattern\":{\"shape\":\"\"}},\"name\":\"Jay Karas\",\"offsetgroup\":\"Jay Karas\",\"orientation\":\"v\",\"showlegend\":true,\"textposition\":\"auto\",\"x\":[\"TV-G\",\"TV-MA\",\"TV-MA\",\"TV-MA\",\"TV-MA\",\"TV-MA\",\"TV-MA\",\"TV-14\",\"TV-14\",\"TV-MA\",\"TV-MA\",\"TV-14\",\"TV-MA\",\"TV-MA\"],\"xaxis\":\"x\",\"y\":[1,1,1,1,1,1,1,1,1,1,1,1,1,1],\"yaxis\":\"y\",\"type\":\"bar\"},{\"alignmentgroup\":\"True\",\"hovertemplate\":\"Director=Ra\\u00fal Campos, Jan Suter\\u003cbr\\u003eRating=%{x}\\u003cbr\\u003ecount=%{y}\\u003cextra\\u003e\\u003c\\u002fextra\\u003e\",\"legendgroup\":\"Ra\\u00fal Campos, Jan Suter\",\"marker\":{\"color\":\"#FFA15A\",\"pattern\":{\"shape\":\"\"}},\"name\":\"Ra\\u00fal Campos, Jan Suter\",\"offsetgroup\":\"Ra\\u00fal Campos, Jan Suter\",\"orientation\":\"v\",\"showlegend\":true,\"textposition\":\"auto\",\"x\":[\"TV-MA\",\"TV-14\",\"TV-MA\",\"TV-MA\",\"TV-MA\",\"TV-MA\",\"TV-MA\",\"TV-MA\",\"TV-MA\",\"TV-MA\",\"TV-MA\",\"TV-MA\",\"TV-MA\",\"TV-MA\",\"TV-MA\",\"TV-MA\",\"TV-MA\",\"TV-MA\"],\"xaxis\":\"x\",\"y\":[1,1,1,1,1,1,1,1,1,1,1,1,1,1,1,1,1,1],\"yaxis\":\"y\",\"type\":\"bar\"}],                        {\"template\":{\"data\":{\"histogram2dcontour\":[{\"type\":\"histogram2dcontour\",\"colorbar\":{\"outlinewidth\":0,\"ticks\":\"\"},\"colorscale\":[[0.0,\"#0d0887\"],[0.1111111111111111,\"#46039f\"],[0.2222222222222222,\"#7201a8\"],[0.3333333333333333,\"#9c179e\"],[0.4444444444444444,\"#bd3786\"],[0.5555555555555556,\"#d8576b\"],[0.6666666666666666,\"#ed7953\"],[0.7777777777777778,\"#fb9f3a\"],[0.8888888888888888,\"#fdca26\"],[1.0,\"#f0f921\"]]}],\"choropleth\":[{\"type\":\"choropleth\",\"colorbar\":{\"outlinewidth\":0,\"ticks\":\"\"}}],\"histogram2d\":[{\"type\":\"histogram2d\",\"colorbar\":{\"outlinewidth\":0,\"ticks\":\"\"},\"colorscale\":[[0.0,\"#0d0887\"],[0.1111111111111111,\"#46039f\"],[0.2222222222222222,\"#7201a8\"],[0.3333333333333333,\"#9c179e\"],[0.4444444444444444,\"#bd3786\"],[0.5555555555555556,\"#d8576b\"],[0.6666666666666666,\"#ed7953\"],[0.7777777777777778,\"#fb9f3a\"],[0.8888888888888888,\"#fdca26\"],[1.0,\"#f0f921\"]]}],\"heatmap\":[{\"type\":\"heatmap\",\"colorbar\":{\"outlinewidth\":0,\"ticks\":\"\"},\"colorscale\":[[0.0,\"#0d0887\"],[0.1111111111111111,\"#46039f\"],[0.2222222222222222,\"#7201a8\"],[0.3333333333333333,\"#9c179e\"],[0.4444444444444444,\"#bd3786\"],[0.5555555555555556,\"#d8576b\"],[0.6666666666666666,\"#ed7953\"],[0.7777777777777778,\"#fb9f3a\"],[0.8888888888888888,\"#fdca26\"],[1.0,\"#f0f921\"]]}],\"heatmapgl\":[{\"type\":\"heatmapgl\",\"colorbar\":{\"outlinewidth\":0,\"ticks\":\"\"},\"colorscale\":[[0.0,\"#0d0887\"],[0.1111111111111111,\"#46039f\"],[0.2222222222222222,\"#7201a8\"],[0.3333333333333333,\"#9c179e\"],[0.4444444444444444,\"#bd3786\"],[0.5555555555555556,\"#d8576b\"],[0.6666666666666666,\"#ed7953\"],[0.7777777777777778,\"#fb9f3a\"],[0.8888888888888888,\"#fdca26\"],[1.0,\"#f0f921\"]]}],\"contourcarpet\":[{\"type\":\"contourcarpet\",\"colorbar\":{\"outlinewidth\":0,\"ticks\":\"\"}}],\"contour\":[{\"type\":\"contour\",\"colorbar\":{\"outlinewidth\":0,\"ticks\":\"\"},\"colorscale\":[[0.0,\"#0d0887\"],[0.1111111111111111,\"#46039f\"],[0.2222222222222222,\"#7201a8\"],[0.3333333333333333,\"#9c179e\"],[0.4444444444444444,\"#bd3786\"],[0.5555555555555556,\"#d8576b\"],[0.6666666666666666,\"#ed7953\"],[0.7777777777777778,\"#fb9f3a\"],[0.8888888888888888,\"#fdca26\"],[1.0,\"#f0f921\"]]}],\"surface\":[{\"type\":\"surface\",\"colorbar\":{\"outlinewidth\":0,\"ticks\":\"\"},\"colorscale\":[[0.0,\"#0d0887\"],[0.1111111111111111,\"#46039f\"],[0.2222222222222222,\"#7201a8\"],[0.3333333333333333,\"#9c179e\"],[0.4444444444444444,\"#bd3786\"],[0.5555555555555556,\"#d8576b\"],[0.6666666666666666,\"#ed7953\"],[0.7777777777777778,\"#fb9f3a\"],[0.8888888888888888,\"#fdca26\"],[1.0,\"#f0f921\"]]}],\"mesh3d\":[{\"type\":\"mesh3d\",\"colorbar\":{\"outlinewidth\":0,\"ticks\":\"\"}}],\"scatter\":[{\"fillpattern\":{\"fillmode\":\"overlay\",\"size\":10,\"solidity\":0.2},\"type\":\"scatter\"}],\"parcoords\":[{\"type\":\"parcoords\",\"line\":{\"colorbar\":{\"outlinewidth\":0,\"ticks\":\"\"}}}],\"scatterpolargl\":[{\"type\":\"scatterpolargl\",\"marker\":{\"colorbar\":{\"outlinewidth\":0,\"ticks\":\"\"}}}],\"bar\":[{\"error_x\":{\"color\":\"#2a3f5f\"},\"error_y\":{\"color\":\"#2a3f5f\"},\"marker\":{\"line\":{\"color\":\"#E5ECF6\",\"width\":0.5},\"pattern\":{\"fillmode\":\"overlay\",\"size\":10,\"solidity\":0.2}},\"type\":\"bar\"}],\"scattergeo\":[{\"type\":\"scattergeo\",\"marker\":{\"colorbar\":{\"outlinewidth\":0,\"ticks\":\"\"}}}],\"scatterpolar\":[{\"type\":\"scatterpolar\",\"marker\":{\"colorbar\":{\"outlinewidth\":0,\"ticks\":\"\"}}}],\"histogram\":[{\"marker\":{\"pattern\":{\"fillmode\":\"overlay\",\"size\":10,\"solidity\":0.2}},\"type\":\"histogram\"}],\"scattergl\":[{\"type\":\"scattergl\",\"marker\":{\"colorbar\":{\"outlinewidth\":0,\"ticks\":\"\"}}}],\"scatter3d\":[{\"type\":\"scatter3d\",\"line\":{\"colorbar\":{\"outlinewidth\":0,\"ticks\":\"\"}},\"marker\":{\"colorbar\":{\"outlinewidth\":0,\"ticks\":\"\"}}}],\"scattermapbox\":[{\"type\":\"scattermapbox\",\"marker\":{\"colorbar\":{\"outlinewidth\":0,\"ticks\":\"\"}}}],\"scatterternary\":[{\"type\":\"scatterternary\",\"marker\":{\"colorbar\":{\"outlinewidth\":0,\"ticks\":\"\"}}}],\"scattercarpet\":[{\"type\":\"scattercarpet\",\"marker\":{\"colorbar\":{\"outlinewidth\":0,\"ticks\":\"\"}}}],\"carpet\":[{\"aaxis\":{\"endlinecolor\":\"#2a3f5f\",\"gridcolor\":\"white\",\"linecolor\":\"white\",\"minorgridcolor\":\"white\",\"startlinecolor\":\"#2a3f5f\"},\"baxis\":{\"endlinecolor\":\"#2a3f5f\",\"gridcolor\":\"white\",\"linecolor\":\"white\",\"minorgridcolor\":\"white\",\"startlinecolor\":\"#2a3f5f\"},\"type\":\"carpet\"}],\"table\":[{\"cells\":{\"fill\":{\"color\":\"#EBF0F8\"},\"line\":{\"color\":\"white\"}},\"header\":{\"fill\":{\"color\":\"#C8D4E3\"},\"line\":{\"color\":\"white\"}},\"type\":\"table\"}],\"barpolar\":[{\"marker\":{\"line\":{\"color\":\"#E5ECF6\",\"width\":0.5},\"pattern\":{\"fillmode\":\"overlay\",\"size\":10,\"solidity\":0.2}},\"type\":\"barpolar\"}],\"pie\":[{\"automargin\":true,\"type\":\"pie\"}]},\"layout\":{\"autotypenumbers\":\"strict\",\"colorway\":[\"#636efa\",\"#EF553B\",\"#00cc96\",\"#ab63fa\",\"#FFA15A\",\"#19d3f3\",\"#FF6692\",\"#B6E880\",\"#FF97FF\",\"#FECB52\"],\"font\":{\"color\":\"#2a3f5f\"},\"hovermode\":\"closest\",\"hoverlabel\":{\"align\":\"left\"},\"paper_bgcolor\":\"white\",\"plot_bgcolor\":\"#E5ECF6\",\"polar\":{\"bgcolor\":\"#E5ECF6\",\"angularaxis\":{\"gridcolor\":\"white\",\"linecolor\":\"white\",\"ticks\":\"\"},\"radialaxis\":{\"gridcolor\":\"white\",\"linecolor\":\"white\",\"ticks\":\"\"}},\"ternary\":{\"bgcolor\":\"#E5ECF6\",\"aaxis\":{\"gridcolor\":\"white\",\"linecolor\":\"white\",\"ticks\":\"\"},\"baxis\":{\"gridcolor\":\"white\",\"linecolor\":\"white\",\"ticks\":\"\"},\"caxis\":{\"gridcolor\":\"white\",\"linecolor\":\"white\",\"ticks\":\"\"}},\"coloraxis\":{\"colorbar\":{\"outlinewidth\":0,\"ticks\":\"\"}},\"colorscale\":{\"sequential\":[[0.0,\"#0d0887\"],[0.1111111111111111,\"#46039f\"],[0.2222222222222222,\"#7201a8\"],[0.3333333333333333,\"#9c179e\"],[0.4444444444444444,\"#bd3786\"],[0.5555555555555556,\"#d8576b\"],[0.6666666666666666,\"#ed7953\"],[0.7777777777777778,\"#fb9f3a\"],[0.8888888888888888,\"#fdca26\"],[1.0,\"#f0f921\"]],\"sequentialminus\":[[0.0,\"#0d0887\"],[0.1111111111111111,\"#46039f\"],[0.2222222222222222,\"#7201a8\"],[0.3333333333333333,\"#9c179e\"],[0.4444444444444444,\"#bd3786\"],[0.5555555555555556,\"#d8576b\"],[0.6666666666666666,\"#ed7953\"],[0.7777777777777778,\"#fb9f3a\"],[0.8888888888888888,\"#fdca26\"],[1.0,\"#f0f921\"]],\"diverging\":[[0,\"#8e0152\"],[0.1,\"#c51b7d\"],[0.2,\"#de77ae\"],[0.3,\"#f1b6da\"],[0.4,\"#fde0ef\"],[0.5,\"#f7f7f7\"],[0.6,\"#e6f5d0\"],[0.7,\"#b8e186\"],[0.8,\"#7fbc41\"],[0.9,\"#4d9221\"],[1,\"#276419\"]]},\"xaxis\":{\"gridcolor\":\"white\",\"linecolor\":\"white\",\"ticks\":\"\",\"title\":{\"standoff\":15},\"zerolinecolor\":\"white\",\"automargin\":true,\"zerolinewidth\":2},\"yaxis\":{\"gridcolor\":\"white\",\"linecolor\":\"white\",\"ticks\":\"\",\"title\":{\"standoff\":15},\"zerolinecolor\":\"white\",\"automargin\":true,\"zerolinewidth\":2},\"scene\":{\"xaxis\":{\"backgroundcolor\":\"#E5ECF6\",\"gridcolor\":\"white\",\"linecolor\":\"white\",\"showbackground\":true,\"ticks\":\"\",\"zerolinecolor\":\"white\",\"gridwidth\":2},\"yaxis\":{\"backgroundcolor\":\"#E5ECF6\",\"gridcolor\":\"white\",\"linecolor\":\"white\",\"showbackground\":true,\"ticks\":\"\",\"zerolinecolor\":\"white\",\"gridwidth\":2},\"zaxis\":{\"backgroundcolor\":\"#E5ECF6\",\"gridcolor\":\"white\",\"linecolor\":\"white\",\"showbackground\":true,\"ticks\":\"\",\"zerolinecolor\":\"white\",\"gridwidth\":2}},\"shapedefaults\":{\"line\":{\"color\":\"#2a3f5f\"}},\"annotationdefaults\":{\"arrowcolor\":\"#2a3f5f\",\"arrowhead\":0,\"arrowwidth\":1},\"geo\":{\"bgcolor\":\"white\",\"landcolor\":\"#E5ECF6\",\"subunitcolor\":\"white\",\"showland\":true,\"showlakes\":true,\"lakecolor\":\"white\"},\"title\":{\"x\":0.05},\"mapbox\":{\"style\":\"light\"}}},\"xaxis\":{\"anchor\":\"y\",\"domain\":[0.0,1.0],\"title\":{\"text\":\"Rating\"}},\"yaxis\":{\"anchor\":\"x\",\"domain\":[0.0,1.0],\"title\":{\"text\":\"count\"}},\"legend\":{\"title\":{\"text\":\"Director\"},\"tracegroupgap\":0},\"title\":{\"text\":\"Distribution of Ratings for Top 5 Directors\"},\"barmode\":\"group\"},                        {\"responsive\": true}                    ).then(function(){\n",
       "                            \n",
       "var gd = document.getElementById('306a178e-fe76-412f-a4b2-1e1b845063f5');\n",
       "var x = new MutationObserver(function (mutations, observer) {{\n",
       "        var display = window.getComputedStyle(gd).display;\n",
       "        if (!display || display === 'none') {{\n",
       "            console.log([gd, 'removed!']);\n",
       "            Plotly.purge(gd);\n",
       "            observer.disconnect();\n",
       "        }}\n",
       "}});\n",
       "\n",
       "// Listen for the removal of the full notebook cells\n",
       "var notebookContainer = gd.closest('#notebook-container');\n",
       "if (notebookContainer) {{\n",
       "    x.observe(notebookContainer, {childList: true});\n",
       "}}\n",
       "\n",
       "// Listen for the clearing of the current output cell\n",
       "var outputEl = gd.closest('.output');\n",
       "if (outputEl) {{\n",
       "    x.observe(outputEl, {childList: true});\n",
       "}}\n",
       "\n",
       "                        })                };                });            </script>        </div>"
      ]
     },
     "metadata": {},
     "output_type": "display_data"
    }
   ],
   "source": [
    "import pandas as pd\n",
    "import plotly.express as px\n",
    "\n",
    "# Loading the dataset\n",
    "df = pd.read_csv('/Users/hp/anaconda_projects/netflix_titles.csv')\n",
    "\n",
    "# Count number of titles per rating for each director\n",
    "director_count = df.groupby('director').size().reset_index(name='title_count')\n",
    "\n",
    "# Select top 5 Directors by number of titles\n",
    "top_directors = director_count.sort_values(by='title_count', ascending=False).head(5)['director']\n",
    "\n",
    "# Filter data for these top 5 Directors\n",
    "filtered_df = df[df['director'].isin(top_directors)]\n",
    "\n",
    "# Plotting the bar chart\n",
    "fig = px.bar(\n",
    "    filtered_df,\n",
    "    x='rating',\n",
    "    color='director',\n",
    "    barmode='group',\n",
    "    title='Distribution of Ratings for Top 5 Directors',\n",
    "    labels={'rating': 'Rating', 'director': 'Director'}\n",
    ")\n",
    "\n",
    "# Display the plot\n",
    "fig.show()\n"
   ]
  },
  {
   "cell_type": "markdown",
   "id": "bc1f72eb-b067-43ed-aab0-ddf266ce7cb4",
   "metadata": {},
   "source": [
    "## 📈 Interpretation of Distribution of Ratings for Top 5 Directors Plot\n",
    "\n",
    "This bar chart shows the **distribution of movie or TV show ratings** for the **top 5 Directors** by number of titles in the dataset.  \n",
    "Each color in the chart corresponds to a different director, allowing us to see their range of ratings side by side.\n",
    "\n",
    "- The **directors with the highest number of titles** are represented here alongside the **variety of their content’s maturity or rating**.\n",
    "- This may highlight patterns or preferences in their productions — for instance, whether a particular director predominantly produces content rated for a younger or older viewership.\n",
    "- Analyzing these patterns can aid in understanding their creative portfolio and help identify trends in the industry related to content rating."
   ]
  },
  {
   "cell_type": "markdown",
   "id": "7b869e1f-8644-4861-9496-08025f4f75a9",
   "metadata": {},
   "source": [
    "## Top 10 Directors by Number of Titles"
   ]
  },
  {
   "cell_type": "code",
   "execution_count": 44,
   "id": "c85c2da4-9cf7-4a05-8ae4-26f51464c835",
   "metadata": {},
   "outputs": [
    {
     "data": {
      "application/vnd.plotly.v1+json": {
       "config": {
        "plotlyServerURL": "https://plot.ly"
       },
       "data": [
        {
         "alignmentgroup": "True",
         "hovertemplate": "Director=%{x}<br>Number of Titles=%{y}<extra></extra>",
         "legendgroup": "",
         "marker": {
          "color": "#636efa",
          "pattern": {
           "shape": ""
          }
         },
         "name": "",
         "offsetgroup": "",
         "orientation": "v",
         "showlegend": false,
         "textposition": "auto",
         "type": "bar",
         "x": [
          "Rajiv Chilaka",
          "Raúl Campos, Jan Suter",
          "Suhas Kadav",
          "Marcus Raboy",
          "Jay Karas",
          "Cathy Garcia-Molina",
          "Jay Chapman",
          "Youssef Chahine",
          "Martin Scorsese",
          "Steven Spielberg"
         ],
         "xaxis": "x",
         "y": [
          19,
          18,
          16,
          16,
          14,
          13,
          12,
          12,
          12,
          11
         ],
         "yaxis": "y"
        }
       ],
       "layout": {
        "autosize": true,
        "barmode": "relative",
        "legend": {
         "tracegroupgap": 0
        },
        "template": {
         "data": {
          "bar": [
           {
            "error_x": {
             "color": "#2a3f5f"
            },
            "error_y": {
             "color": "#2a3f5f"
            },
            "marker": {
             "line": {
              "color": "#E5ECF6",
              "width": 0.5
             },
             "pattern": {
              "fillmode": "overlay",
              "size": 10,
              "solidity": 0.2
             }
            },
            "type": "bar"
           }
          ],
          "barpolar": [
           {
            "marker": {
             "line": {
              "color": "#E5ECF6",
              "width": 0.5
             },
             "pattern": {
              "fillmode": "overlay",
              "size": 10,
              "solidity": 0.2
             }
            },
            "type": "barpolar"
           }
          ],
          "carpet": [
           {
            "aaxis": {
             "endlinecolor": "#2a3f5f",
             "gridcolor": "white",
             "linecolor": "white",
             "minorgridcolor": "white",
             "startlinecolor": "#2a3f5f"
            },
            "baxis": {
             "endlinecolor": "#2a3f5f",
             "gridcolor": "white",
             "linecolor": "white",
             "minorgridcolor": "white",
             "startlinecolor": "#2a3f5f"
            },
            "type": "carpet"
           }
          ],
          "choropleth": [
           {
            "colorbar": {
             "outlinewidth": 0,
             "ticks": ""
            },
            "type": "choropleth"
           }
          ],
          "contour": [
           {
            "colorbar": {
             "outlinewidth": 0,
             "ticks": ""
            },
            "colorscale": [
             [
              0,
              "#0d0887"
             ],
             [
              0.1111111111111111,
              "#46039f"
             ],
             [
              0.2222222222222222,
              "#7201a8"
             ],
             [
              0.3333333333333333,
              "#9c179e"
             ],
             [
              0.4444444444444444,
              "#bd3786"
             ],
             [
              0.5555555555555556,
              "#d8576b"
             ],
             [
              0.6666666666666666,
              "#ed7953"
             ],
             [
              0.7777777777777778,
              "#fb9f3a"
             ],
             [
              0.8888888888888888,
              "#fdca26"
             ],
             [
              1,
              "#f0f921"
             ]
            ],
            "type": "contour"
           }
          ],
          "contourcarpet": [
           {
            "colorbar": {
             "outlinewidth": 0,
             "ticks": ""
            },
            "type": "contourcarpet"
           }
          ],
          "heatmap": [
           {
            "colorbar": {
             "outlinewidth": 0,
             "ticks": ""
            },
            "colorscale": [
             [
              0,
              "#0d0887"
             ],
             [
              0.1111111111111111,
              "#46039f"
             ],
             [
              0.2222222222222222,
              "#7201a8"
             ],
             [
              0.3333333333333333,
              "#9c179e"
             ],
             [
              0.4444444444444444,
              "#bd3786"
             ],
             [
              0.5555555555555556,
              "#d8576b"
             ],
             [
              0.6666666666666666,
              "#ed7953"
             ],
             [
              0.7777777777777778,
              "#fb9f3a"
             ],
             [
              0.8888888888888888,
              "#fdca26"
             ],
             [
              1,
              "#f0f921"
             ]
            ],
            "type": "heatmap"
           }
          ],
          "heatmapgl": [
           {
            "colorbar": {
             "outlinewidth": 0,
             "ticks": ""
            },
            "colorscale": [
             [
              0,
              "#0d0887"
             ],
             [
              0.1111111111111111,
              "#46039f"
             ],
             [
              0.2222222222222222,
              "#7201a8"
             ],
             [
              0.3333333333333333,
              "#9c179e"
             ],
             [
              0.4444444444444444,
              "#bd3786"
             ],
             [
              0.5555555555555556,
              "#d8576b"
             ],
             [
              0.6666666666666666,
              "#ed7953"
             ],
             [
              0.7777777777777778,
              "#fb9f3a"
             ],
             [
              0.8888888888888888,
              "#fdca26"
             ],
             [
              1,
              "#f0f921"
             ]
            ],
            "type": "heatmapgl"
           }
          ],
          "histogram": [
           {
            "marker": {
             "pattern": {
              "fillmode": "overlay",
              "size": 10,
              "solidity": 0.2
             }
            },
            "type": "histogram"
           }
          ],
          "histogram2d": [
           {
            "colorbar": {
             "outlinewidth": 0,
             "ticks": ""
            },
            "colorscale": [
             [
              0,
              "#0d0887"
             ],
             [
              0.1111111111111111,
              "#46039f"
             ],
             [
              0.2222222222222222,
              "#7201a8"
             ],
             [
              0.3333333333333333,
              "#9c179e"
             ],
             [
              0.4444444444444444,
              "#bd3786"
             ],
             [
              0.5555555555555556,
              "#d8576b"
             ],
             [
              0.6666666666666666,
              "#ed7953"
             ],
             [
              0.7777777777777778,
              "#fb9f3a"
             ],
             [
              0.8888888888888888,
              "#fdca26"
             ],
             [
              1,
              "#f0f921"
             ]
            ],
            "type": "histogram2d"
           }
          ],
          "histogram2dcontour": [
           {
            "colorbar": {
             "outlinewidth": 0,
             "ticks": ""
            },
            "colorscale": [
             [
              0,
              "#0d0887"
             ],
             [
              0.1111111111111111,
              "#46039f"
             ],
             [
              0.2222222222222222,
              "#7201a8"
             ],
             [
              0.3333333333333333,
              "#9c179e"
             ],
             [
              0.4444444444444444,
              "#bd3786"
             ],
             [
              0.5555555555555556,
              "#d8576b"
             ],
             [
              0.6666666666666666,
              "#ed7953"
             ],
             [
              0.7777777777777778,
              "#fb9f3a"
             ],
             [
              0.8888888888888888,
              "#fdca26"
             ],
             [
              1,
              "#f0f921"
             ]
            ],
            "type": "histogram2dcontour"
           }
          ],
          "mesh3d": [
           {
            "colorbar": {
             "outlinewidth": 0,
             "ticks": ""
            },
            "type": "mesh3d"
           }
          ],
          "parcoords": [
           {
            "line": {
             "colorbar": {
              "outlinewidth": 0,
              "ticks": ""
             }
            },
            "type": "parcoords"
           }
          ],
          "pie": [
           {
            "automargin": true,
            "type": "pie"
           }
          ],
          "scatter": [
           {
            "fillpattern": {
             "fillmode": "overlay",
             "size": 10,
             "solidity": 0.2
            },
            "type": "scatter"
           }
          ],
          "scatter3d": [
           {
            "line": {
             "colorbar": {
              "outlinewidth": 0,
              "ticks": ""
             }
            },
            "marker": {
             "colorbar": {
              "outlinewidth": 0,
              "ticks": ""
             }
            },
            "type": "scatter3d"
           }
          ],
          "scattercarpet": [
           {
            "marker": {
             "colorbar": {
              "outlinewidth": 0,
              "ticks": ""
             }
            },
            "type": "scattercarpet"
           }
          ],
          "scattergeo": [
           {
            "marker": {
             "colorbar": {
              "outlinewidth": 0,
              "ticks": ""
             }
            },
            "type": "scattergeo"
           }
          ],
          "scattergl": [
           {
            "marker": {
             "colorbar": {
              "outlinewidth": 0,
              "ticks": ""
             }
            },
            "type": "scattergl"
           }
          ],
          "scattermapbox": [
           {
            "marker": {
             "colorbar": {
              "outlinewidth": 0,
              "ticks": ""
             }
            },
            "type": "scattermapbox"
           }
          ],
          "scatterpolar": [
           {
            "marker": {
             "colorbar": {
              "outlinewidth": 0,
              "ticks": ""
             }
            },
            "type": "scatterpolar"
           }
          ],
          "scatterpolargl": [
           {
            "marker": {
             "colorbar": {
              "outlinewidth": 0,
              "ticks": ""
             }
            },
            "type": "scatterpolargl"
           }
          ],
          "scatterternary": [
           {
            "marker": {
             "colorbar": {
              "outlinewidth": 0,
              "ticks": ""
             }
            },
            "type": "scatterternary"
           }
          ],
          "surface": [
           {
            "colorbar": {
             "outlinewidth": 0,
             "ticks": ""
            },
            "colorscale": [
             [
              0,
              "#0d0887"
             ],
             [
              0.1111111111111111,
              "#46039f"
             ],
             [
              0.2222222222222222,
              "#7201a8"
             ],
             [
              0.3333333333333333,
              "#9c179e"
             ],
             [
              0.4444444444444444,
              "#bd3786"
             ],
             [
              0.5555555555555556,
              "#d8576b"
             ],
             [
              0.6666666666666666,
              "#ed7953"
             ],
             [
              0.7777777777777778,
              "#fb9f3a"
             ],
             [
              0.8888888888888888,
              "#fdca26"
             ],
             [
              1,
              "#f0f921"
             ]
            ],
            "type": "surface"
           }
          ],
          "table": [
           {
            "cells": {
             "fill": {
              "color": "#EBF0F8"
             },
             "line": {
              "color": "white"
             }
            },
            "header": {
             "fill": {
              "color": "#C8D4E3"
             },
             "line": {
              "color": "white"
             }
            },
            "type": "table"
           }
          ]
         },
         "layout": {
          "annotationdefaults": {
           "arrowcolor": "#2a3f5f",
           "arrowhead": 0,
           "arrowwidth": 1
          },
          "autotypenumbers": "strict",
          "coloraxis": {
           "colorbar": {
            "outlinewidth": 0,
            "ticks": ""
           }
          },
          "colorscale": {
           "diverging": [
            [
             0,
             "#8e0152"
            ],
            [
             0.1,
             "#c51b7d"
            ],
            [
             0.2,
             "#de77ae"
            ],
            [
             0.3,
             "#f1b6da"
            ],
            [
             0.4,
             "#fde0ef"
            ],
            [
             0.5,
             "#f7f7f7"
            ],
            [
             0.6,
             "#e6f5d0"
            ],
            [
             0.7,
             "#b8e186"
            ],
            [
             0.8,
             "#7fbc41"
            ],
            [
             0.9,
             "#4d9221"
            ],
            [
             1,
             "#276419"
            ]
           ],
           "sequential": [
            [
             0,
             "#0d0887"
            ],
            [
             0.1111111111111111,
             "#46039f"
            ],
            [
             0.2222222222222222,
             "#7201a8"
            ],
            [
             0.3333333333333333,
             "#9c179e"
            ],
            [
             0.4444444444444444,
             "#bd3786"
            ],
            [
             0.5555555555555556,
             "#d8576b"
            ],
            [
             0.6666666666666666,
             "#ed7953"
            ],
            [
             0.7777777777777778,
             "#fb9f3a"
            ],
            [
             0.8888888888888888,
             "#fdca26"
            ],
            [
             1,
             "#f0f921"
            ]
           ],
           "sequentialminus": [
            [
             0,
             "#0d0887"
            ],
            [
             0.1111111111111111,
             "#46039f"
            ],
            [
             0.2222222222222222,
             "#7201a8"
            ],
            [
             0.3333333333333333,
             "#9c179e"
            ],
            [
             0.4444444444444444,
             "#bd3786"
            ],
            [
             0.5555555555555556,
             "#d8576b"
            ],
            [
             0.6666666666666666,
             "#ed7953"
            ],
            [
             0.7777777777777778,
             "#fb9f3a"
            ],
            [
             0.8888888888888888,
             "#fdca26"
            ],
            [
             1,
             "#f0f921"
            ]
           ]
          },
          "colorway": [
           "#636efa",
           "#EF553B",
           "#00cc96",
           "#ab63fa",
           "#FFA15A",
           "#19d3f3",
           "#FF6692",
           "#B6E880",
           "#FF97FF",
           "#FECB52"
          ],
          "font": {
           "color": "#2a3f5f"
          },
          "geo": {
           "bgcolor": "white",
           "lakecolor": "white",
           "landcolor": "#E5ECF6",
           "showlakes": true,
           "showland": true,
           "subunitcolor": "white"
          },
          "hoverlabel": {
           "align": "left"
          },
          "hovermode": "closest",
          "mapbox": {
           "style": "light"
          },
          "paper_bgcolor": "white",
          "plot_bgcolor": "#E5ECF6",
          "polar": {
           "angularaxis": {
            "gridcolor": "white",
            "linecolor": "white",
            "ticks": ""
           },
           "bgcolor": "#E5ECF6",
           "radialaxis": {
            "gridcolor": "white",
            "linecolor": "white",
            "ticks": ""
           }
          },
          "scene": {
           "xaxis": {
            "backgroundcolor": "#E5ECF6",
            "gridcolor": "white",
            "gridwidth": 2,
            "linecolor": "white",
            "showbackground": true,
            "ticks": "",
            "zerolinecolor": "white"
           },
           "yaxis": {
            "backgroundcolor": "#E5ECF6",
            "gridcolor": "white",
            "gridwidth": 2,
            "linecolor": "white",
            "showbackground": true,
            "ticks": "",
            "zerolinecolor": "white"
           },
           "zaxis": {
            "backgroundcolor": "#E5ECF6",
            "gridcolor": "white",
            "gridwidth": 2,
            "linecolor": "white",
            "showbackground": true,
            "ticks": "",
            "zerolinecolor": "white"
           }
          },
          "shapedefaults": {
           "line": {
            "color": "#2a3f5f"
           }
          },
          "ternary": {
           "aaxis": {
            "gridcolor": "white",
            "linecolor": "white",
            "ticks": ""
           },
           "baxis": {
            "gridcolor": "white",
            "linecolor": "white",
            "ticks": ""
           },
           "bgcolor": "#E5ECF6",
           "caxis": {
            "gridcolor": "white",
            "linecolor": "white",
            "ticks": ""
           }
          },
          "title": {
           "x": 0.05
          },
          "xaxis": {
           "automargin": true,
           "gridcolor": "white",
           "linecolor": "white",
           "ticks": "",
           "title": {
            "standoff": 15
           },
           "zerolinecolor": "white",
           "zerolinewidth": 2
          },
          "yaxis": {
           "automargin": true,
           "gridcolor": "white",
           "linecolor": "white",
           "ticks": "",
           "title": {
            "standoff": 15
           },
           "zerolinecolor": "white",
           "zerolinewidth": 2
          }
         }
        },
        "title": {
         "text": "Top 10 Directors by Number of Titles"
        },
        "xaxis": {
         "anchor": "y",
         "autorange": true,
         "domain": [
          0,
          1
         ],
         "range": [
          -0.5,
          9.5
         ],
         "title": {
          "text": "Director"
         },
         "type": "category"
        },
        "yaxis": {
         "anchor": "x",
         "autorange": true,
         "domain": [
          0,
          1
         ],
         "range": [
          0,
          20
         ],
         "title": {
          "text": "Number of Titles"
         },
         "type": "linear"
        }
       }
      },
      "image/png": "[encoded data removed]",
      "text/html": [
       "<div>                            <div id=\"24149f2d-085f-4887-8f18-80ed6425e1de\" class=\"plotly-graph-div\" style=\"height:525px; width:100%;\"></div>            <script type=\"text/javascript\">                require([\"plotly\"], function(Plotly) {                    window.PLOTLYENV=window.PLOTLYENV || {};                                    if (document.getElementById(\"24149f2d-085f-4887-8f18-80ed6425e1de\")) {                    Plotly.newPlot(                        \"24149f2d-085f-4887-8f18-80ed6425e1de\",                        [{\"alignmentgroup\":\"True\",\"hovertemplate\":\"Director=%{x}\\u003cbr\\u003eNumber of Titles=%{y}\\u003cextra\\u003e\\u003c\\u002fextra\\u003e\",\"legendgroup\":\"\",\"marker\":{\"color\":\"#636efa\",\"pattern\":{\"shape\":\"\"}},\"name\":\"\",\"offsetgroup\":\"\",\"orientation\":\"v\",\"showlegend\":false,\"textposition\":\"auto\",\"x\":[\"Rajiv Chilaka\",\"Ra\\u00fal Campos, Jan Suter\",\"Suhas Kadav\",\"Marcus Raboy\",\"Jay Karas\",\"Cathy Garcia-Molina\",\"Jay Chapman\",\"Youssef Chahine\",\"Martin Scorsese\",\"Steven Spielberg\"],\"xaxis\":\"x\",\"y\":[19,18,16,16,14,13,12,12,12,11],\"yaxis\":\"y\",\"type\":\"bar\"}],                        {\"template\":{\"data\":{\"histogram2dcontour\":[{\"type\":\"histogram2dcontour\",\"colorbar\":{\"outlinewidth\":0,\"ticks\":\"\"},\"colorscale\":[[0.0,\"#0d0887\"],[0.1111111111111111,\"#46039f\"],[0.2222222222222222,\"#7201a8\"],[0.3333333333333333,\"#9c179e\"],[0.4444444444444444,\"#bd3786\"],[0.5555555555555556,\"#d8576b\"],[0.6666666666666666,\"#ed7953\"],[0.7777777777777778,\"#fb9f3a\"],[0.8888888888888888,\"#fdca26\"],[1.0,\"#f0f921\"]]}],\"choropleth\":[{\"type\":\"choropleth\",\"colorbar\":{\"outlinewidth\":0,\"ticks\":\"\"}}],\"histogram2d\":[{\"type\":\"histogram2d\",\"colorbar\":{\"outlinewidth\":0,\"ticks\":\"\"},\"colorscale\":[[0.0,\"#0d0887\"],[0.1111111111111111,\"#46039f\"],[0.2222222222222222,\"#7201a8\"],[0.3333333333333333,\"#9c179e\"],[0.4444444444444444,\"#bd3786\"],[0.5555555555555556,\"#d8576b\"],[0.6666666666666666,\"#ed7953\"],[0.7777777777777778,\"#fb9f3a\"],[0.8888888888888888,\"#fdca26\"],[1.0,\"#f0f921\"]]}],\"heatmap\":[{\"type\":\"heatmap\",\"colorbar\":{\"outlinewidth\":0,\"ticks\":\"\"},\"colorscale\":[[0.0,\"#0d0887\"],[0.1111111111111111,\"#46039f\"],[0.2222222222222222,\"#7201a8\"],[0.3333333333333333,\"#9c179e\"],[0.4444444444444444,\"#bd3786\"],[0.5555555555555556,\"#d8576b\"],[0.6666666666666666,\"#ed7953\"],[0.7777777777777778,\"#fb9f3a\"],[0.8888888888888888,\"#fdca26\"],[1.0,\"#f0f921\"]]}],\"heatmapgl\":[{\"type\":\"heatmapgl\",\"colorbar\":{\"outlinewidth\":0,\"ticks\":\"\"},\"colorscale\":[[0.0,\"#0d0887\"],[0.1111111111111111,\"#46039f\"],[0.2222222222222222,\"#7201a8\"],[0.3333333333333333,\"#9c179e\"],[0.4444444444444444,\"#bd3786\"],[0.5555555555555556,\"#d8576b\"],[0.6666666666666666,\"#ed7953\"],[0.7777777777777778,\"#fb9f3a\"],[0.8888888888888888,\"#fdca26\"],[1.0,\"#f0f921\"]]}],\"contourcarpet\":[{\"type\":\"contourcarpet\",\"colorbar\":{\"outlinewidth\":0,\"ticks\":\"\"}}],\"contour\":[{\"type\":\"contour\",\"colorbar\":{\"outlinewidth\":0,\"ticks\":\"\"},\"colorscale\":[[0.0,\"#0d0887\"],[0.1111111111111111,\"#46039f\"],[0.2222222222222222,\"#7201a8\"],[0.3333333333333333,\"#9c179e\"],[0.4444444444444444,\"#bd3786\"],[0.5555555555555556,\"#d8576b\"],[0.6666666666666666,\"#ed7953\"],[0.7777777777777778,\"#fb9f3a\"],[0.8888888888888888,\"#fdca26\"],[1.0,\"#f0f921\"]]}],\"surface\":[{\"type\":\"surface\",\"colorbar\":{\"outlinewidth\":0,\"ticks\":\"\"},\"colorscale\":[[0.0,\"#0d0887\"],[0.1111111111111111,\"#46039f\"],[0.2222222222222222,\"#7201a8\"],[0.3333333333333333,\"#9c179e\"],[0.4444444444444444,\"#bd3786\"],[0.5555555555555556,\"#d8576b\"],[0.6666666666666666,\"#ed7953\"],[0.7777777777777778,\"#fb9f3a\"],[0.8888888888888888,\"#fdca26\"],[1.0,\"#f0f921\"]]}],\"mesh3d\":[{\"type\":\"mesh3d\",\"colorbar\":{\"outlinewidth\":0,\"ticks\":\"\"}}],\"scatter\":[{\"fillpattern\":{\"fillmode\":\"overlay\",\"size\":10,\"solidity\":0.2},\"type\":\"scatter\"}],\"parcoords\":[{\"type\":\"parcoords\",\"line\":{\"colorbar\":{\"outlinewidth\":0,\"ticks\":\"\"}}}],\"scatterpolargl\":[{\"type\":\"scatterpolargl\",\"marker\":{\"colorbar\":{\"outlinewidth\":0,\"ticks\":\"\"}}}],\"bar\":[{\"error_x\":{\"color\":\"#2a3f5f\"},\"error_y\":{\"color\":\"#2a3f5f\"},\"marker\":{\"line\":{\"color\":\"#E5ECF6\",\"width\":0.5},\"pattern\":{\"fillmode\":\"overlay\",\"size\":10,\"solidity\":0.2}},\"type\":\"bar\"}],\"scattergeo\":[{\"type\":\"scattergeo\",\"marker\":{\"colorbar\":{\"outlinewidth\":0,\"ticks\":\"\"}}}],\"scatterpolar\":[{\"type\":\"scatterpolar\",\"marker\":{\"colorbar\":{\"outlinewidth\":0,\"ticks\":\"\"}}}],\"histogram\":[{\"marker\":{\"pattern\":{\"fillmode\":\"overlay\",\"size\":10,\"solidity\":0.2}},\"type\":\"histogram\"}],\"scattergl\":[{\"type\":\"scattergl\",\"marker\":{\"colorbar\":{\"outlinewidth\":0,\"ticks\":\"\"}}}],\"scatter3d\":[{\"type\":\"scatter3d\",\"line\":{\"colorbar\":{\"outlinewidth\":0,\"ticks\":\"\"}},\"marker\":{\"colorbar\":{\"outlinewidth\":0,\"ticks\":\"\"}}}],\"scattermapbox\":[{\"type\":\"scattermapbox\",\"marker\":{\"colorbar\":{\"outlinewidth\":0,\"ticks\":\"\"}}}],\"scatterternary\":[{\"type\":\"scatterternary\",\"marker\":{\"colorbar\":{\"outlinewidth\":0,\"ticks\":\"\"}}}],\"scattercarpet\":[{\"type\":\"scattercarpet\",\"marker\":{\"colorbar\":{\"outlinewidth\":0,\"ticks\":\"\"}}}],\"carpet\":[{\"aaxis\":{\"endlinecolor\":\"#2a3f5f\",\"gridcolor\":\"white\",\"linecolor\":\"white\",\"minorgridcolor\":\"white\",\"startlinecolor\":\"#2a3f5f\"},\"baxis\":{\"endlinecolor\":\"#2a3f5f\",\"gridcolor\":\"white\",\"linecolor\":\"white\",\"minorgridcolor\":\"white\",\"startlinecolor\":\"#2a3f5f\"},\"type\":\"carpet\"}],\"table\":[{\"cells\":{\"fill\":{\"color\":\"#EBF0F8\"},\"line\":{\"color\":\"white\"}},\"header\":{\"fill\":{\"color\":\"#C8D4E3\"},\"line\":{\"color\":\"white\"}},\"type\":\"table\"}],\"barpolar\":[{\"marker\":{\"line\":{\"color\":\"#E5ECF6\",\"width\":0.5},\"pattern\":{\"fillmode\":\"overlay\",\"size\":10,\"solidity\":0.2}},\"type\":\"barpolar\"}],\"pie\":[{\"automargin\":true,\"type\":\"pie\"}]},\"layout\":{\"autotypenumbers\":\"strict\",\"colorway\":[\"#636efa\",\"#EF553B\",\"#00cc96\",\"#ab63fa\",\"#FFA15A\",\"#19d3f3\",\"#FF6692\",\"#B6E880\",\"#FF97FF\",\"#FECB52\"],\"font\":{\"color\":\"#2a3f5f\"},\"hovermode\":\"closest\",\"hoverlabel\":{\"align\":\"left\"},\"paper_bgcolor\":\"white\",\"plot_bgcolor\":\"#E5ECF6\",\"polar\":{\"bgcolor\":\"#E5ECF6\",\"angularaxis\":{\"gridcolor\":\"white\",\"linecolor\":\"white\",\"ticks\":\"\"},\"radialaxis\":{\"gridcolor\":\"white\",\"linecolor\":\"white\",\"ticks\":\"\"}},\"ternary\":{\"bgcolor\":\"#E5ECF6\",\"aaxis\":{\"gridcolor\":\"white\",\"linecolor\":\"white\",\"ticks\":\"\"},\"baxis\":{\"gridcolor\":\"white\",\"linecolor\":\"white\",\"ticks\":\"\"},\"caxis\":{\"gridcolor\":\"white\",\"linecolor\":\"white\",\"ticks\":\"\"}},\"coloraxis\":{\"colorbar\":{\"outlinewidth\":0,\"ticks\":\"\"}},\"colorscale\":{\"sequential\":[[0.0,\"#0d0887\"],[0.1111111111111111,\"#46039f\"],[0.2222222222222222,\"#7201a8\"],[0.3333333333333333,\"#9c179e\"],[0.4444444444444444,\"#bd3786\"],[0.5555555555555556,\"#d8576b\"],[0.6666666666666666,\"#ed7953\"],[0.7777777777777778,\"#fb9f3a\"],[0.8888888888888888,\"#fdca26\"],[1.0,\"#f0f921\"]],\"sequentialminus\":[[0.0,\"#0d0887\"],[0.1111111111111111,\"#46039f\"],[0.2222222222222222,\"#7201a8\"],[0.3333333333333333,\"#9c179e\"],[0.4444444444444444,\"#bd3786\"],[0.5555555555555556,\"#d8576b\"],[0.6666666666666666,\"#ed7953\"],[0.7777777777777778,\"#fb9f3a\"],[0.8888888888888888,\"#fdca26\"],[1.0,\"#f0f921\"]],\"diverging\":[[0,\"#8e0152\"],[0.1,\"#c51b7d\"],[0.2,\"#de77ae\"],[0.3,\"#f1b6da\"],[0.4,\"#fde0ef\"],[0.5,\"#f7f7f7\"],[0.6,\"#e6f5d0\"],[0.7,\"#b8e186\"],[0.8,\"#7fbc41\"],[0.9,\"#4d9221\"],[1,\"#276419\"]]},\"xaxis\":{\"gridcolor\":\"white\",\"linecolor\":\"white\",\"ticks\":\"\",\"title\":{\"standoff\":15},\"zerolinecolor\":\"white\",\"automargin\":true,\"zerolinewidth\":2},\"yaxis\":{\"gridcolor\":\"white\",\"linecolor\":\"white\",\"ticks\":\"\",\"title\":{\"standoff\":15},\"zerolinecolor\":\"white\",\"automargin\":true,\"zerolinewidth\":2},\"scene\":{\"xaxis\":{\"backgroundcolor\":\"#E5ECF6\",\"gridcolor\":\"white\",\"linecolor\":\"white\",\"showbackground\":true,\"ticks\":\"\",\"zerolinecolor\":\"white\",\"gridwidth\":2},\"yaxis\":{\"backgroundcolor\":\"#E5ECF6\",\"gridcolor\":\"white\",\"linecolor\":\"white\",\"showbackground\":true,\"ticks\":\"\",\"zerolinecolor\":\"white\",\"gridwidth\":2},\"zaxis\":{\"backgroundcolor\":\"#E5ECF6\",\"gridcolor\":\"white\",\"linecolor\":\"white\",\"showbackground\":true,\"ticks\":\"\",\"zerolinecolor\":\"white\",\"gridwidth\":2}},\"shapedefaults\":{\"line\":{\"color\":\"#2a3f5f\"}},\"annotationdefaults\":{\"arrowcolor\":\"#2a3f5f\",\"arrowhead\":0,\"arrowwidth\":1},\"geo\":{\"bgcolor\":\"white\",\"landcolor\":\"#E5ECF6\",\"subunitcolor\":\"white\",\"showland\":true,\"showlakes\":true,\"lakecolor\":\"white\"},\"title\":{\"x\":0.05},\"mapbox\":{\"style\":\"light\"}}},\"xaxis\":{\"anchor\":\"y\",\"domain\":[0.0,1.0],\"title\":{\"text\":\"Director\"}},\"yaxis\":{\"anchor\":\"x\",\"domain\":[0.0,1.0],\"title\":{\"text\":\"Number of Titles\"}},\"legend\":{\"tracegroupgap\":0},\"title\":{\"text\":\"Top 10 Directors by Number of Titles\"},\"barmode\":\"relative\"},                        {\"responsive\": true}                    ).then(function(){\n",
       "                            \n",
       "var gd = document.getElementById('24149f2d-085f-4887-8f18-80ed6425e1de');\n",
       "var x = new MutationObserver(function (mutations, observer) {{\n",
       "        var display = window.getComputedStyle(gd).display;\n",
       "        if (!display || display === 'none') {{\n",
       "            console.log([gd, 'removed!']);\n",
       "            Plotly.purge(gd);\n",
       "            observer.disconnect();\n",
       "        }}\n",
       "}});\n",
       "\n",
       "// Listen for the removal of the full notebook cells\n",
       "var notebookContainer = gd.closest('#notebook-container');\n",
       "if (notebookContainer) {{\n",
       "    x.observe(notebookContainer, {childList: true});\n",
       "}}\n",
       "\n",
       "// Listen for the clearing of the current output cell\n",
       "var outputEl = gd.closest('.output');\n",
       "if (outputEl) {{\n",
       "    x.observe(outputEl, {childList: true});\n",
       "}}\n",
       "\n",
       "                        })                };                });            </script>        </div>"
      ]
     },
     "metadata": {},
     "output_type": "display_data"
    }
   ],
   "source": [
    "import plotly.express as px\n",
    "\n",
    "# Count titles per director\n",
    "director_count = df.groupby('director').size().reset_index(name='title_count')\n",
    "\n",
    "# Top 10 Directors\n",
    "top_directors = director_count.sort_values(by='title_count', ascending=False).head(10)\n",
    "\n",
    "# Plot\n",
    "fig = px.bar(top_directors, x='director', y='title_count',\n",
    "             title='Top 10 Directors by Number of Titles',\n",
    "             labels={'director': 'Director', 'title_count': 'Number of Titles'})\n",
    "fig.show()\n"
   ]
  },
  {
   "cell_type": "markdown",
   "id": "0c1faaff-26f2-4095-874f-11af00c8b01b",
   "metadata": {},
   "source": [
    "## 📈 Interpretation of Top 10 Directors by Number of Titles Plot\n",
    "\n",
    "This bar chart displays the **top 10 Directors by Number of Titles** in the dataset.  \n",
    "It shows us which Directors have contributed the most content (movie or TV show titles) to Netflix, reflecting their productivity or popularity.\n",
    "\n",
    "- The **X-axis** lists the names of the **directors**.\n",
    "- The **Y-axis** shows the **number of titles** each one has in the dataset.\n",
    "- The chart is helpful for understanding which Directors are most prolific or frequently collaborate with Netflix.\n",
    "  \n",
    "This information can be useful for analyzing industry trends, spotting high-profile collaborators, or for further study into the style, popularity, or reach of their work."
   ]
  },
  {
   "cell_type": "markdown",
   "id": "8f028e77-bca0-4bf5-8f4d-172adb5065aa",
   "metadata": {},
   "source": [
    "## Top 10 Directors by Number of Titles for Each Type"
   ]
  },
  {
   "cell_type": "code",
   "execution_count": 39,
   "id": "9f9671ef-8d8a-4bf5-b867-d3ab563e3da2",
   "metadata": {},
   "outputs": [
    {
     "data": {
      "text/html": [
       "<div>\n",
       "<style scoped>\n",
       "    .dataframe tbody tr th:only-of-type {\n",
       "        vertical-align: middle;\n",
       "    }\n",
       "\n",
       "    .dataframe tbody tr th {\n",
       "        vertical-align: top;\n",
       "    }\n",
       "\n",
       "    .dataframe thead th {\n",
       "        text-align: right;\n",
       "    }\n",
       "</style>\n",
       "<table border=\"1\" class=\"dataframe\">\n",
       "  <thead>\n",
       "    <tr style=\"text-align: right;\">\n",
       "      <th></th>\n",
       "      <th>type</th>\n",
       "      <th>director</th>\n",
       "      <th>size</th>\n",
       "    </tr>\n",
       "  </thead>\n",
       "  <tbody>\n",
       "    <tr>\n",
       "      <th>0</th>\n",
       "      <td>Movie</td>\n",
       "      <td>Rajiv Chilaka</td>\n",
       "      <td>19</td>\n",
       "    </tr>\n",
       "    <tr>\n",
       "      <th>1</th>\n",
       "      <td>Movie</td>\n",
       "      <td>Raúl Campos, Jan Suter</td>\n",
       "      <td>18</td>\n",
       "    </tr>\n",
       "    <tr>\n",
       "      <th>2</th>\n",
       "      <td>Movie</td>\n",
       "      <td>Suhas Kadav</td>\n",
       "      <td>16</td>\n",
       "    </tr>\n",
       "    <tr>\n",
       "      <th>3</th>\n",
       "      <td>Movie</td>\n",
       "      <td>Marcus Raboy</td>\n",
       "      <td>15</td>\n",
       "    </tr>\n",
       "    <tr>\n",
       "      <th>4</th>\n",
       "      <td>Movie</td>\n",
       "      <td>Jay Karas</td>\n",
       "      <td>14</td>\n",
       "    </tr>\n",
       "    <tr>\n",
       "      <th>5</th>\n",
       "      <td>Movie</td>\n",
       "      <td>Cathy Garcia-Molina</td>\n",
       "      <td>13</td>\n",
       "    </tr>\n",
       "    <tr>\n",
       "      <th>6</th>\n",
       "      <td>Movie</td>\n",
       "      <td>Martin Scorsese</td>\n",
       "      <td>12</td>\n",
       "    </tr>\n",
       "    <tr>\n",
       "      <th>7</th>\n",
       "      <td>Movie</td>\n",
       "      <td>Youssef Chahine</td>\n",
       "      <td>12</td>\n",
       "    </tr>\n",
       "    <tr>\n",
       "      <th>8</th>\n",
       "      <td>Movie</td>\n",
       "      <td>Jay Chapman</td>\n",
       "      <td>12</td>\n",
       "    </tr>\n",
       "    <tr>\n",
       "      <th>9</th>\n",
       "      <td>Movie</td>\n",
       "      <td>Steven Spielberg</td>\n",
       "      <td>11</td>\n",
       "    </tr>\n",
       "    <tr>\n",
       "      <th>10</th>\n",
       "      <td>TV Show</td>\n",
       "      <td>Alastair Fothergill</td>\n",
       "      <td>3</td>\n",
       "    </tr>\n",
       "    <tr>\n",
       "      <th>11</th>\n",
       "      <td>TV Show</td>\n",
       "      <td>Ken Burns</td>\n",
       "      <td>2</td>\n",
       "    </tr>\n",
       "    <tr>\n",
       "      <th>12</th>\n",
       "      <td>TV Show</td>\n",
       "      <td>Stan Lathan</td>\n",
       "      <td>2</td>\n",
       "    </tr>\n",
       "    <tr>\n",
       "      <th>13</th>\n",
       "      <td>TV Show</td>\n",
       "      <td>Hsu Fu-chun</td>\n",
       "      <td>2</td>\n",
       "    </tr>\n",
       "    <tr>\n",
       "      <th>14</th>\n",
       "      <td>TV Show</td>\n",
       "      <td>Iginio Straffi</td>\n",
       "      <td>2</td>\n",
       "    </tr>\n",
       "    <tr>\n",
       "      <th>15</th>\n",
       "      <td>TV Show</td>\n",
       "      <td>Rob Seidenglanz</td>\n",
       "      <td>2</td>\n",
       "    </tr>\n",
       "    <tr>\n",
       "      <th>16</th>\n",
       "      <td>TV Show</td>\n",
       "      <td>Shin Won-ho</td>\n",
       "      <td>2</td>\n",
       "    </tr>\n",
       "    <tr>\n",
       "      <th>17</th>\n",
       "      <td>TV Show</td>\n",
       "      <td>Fernando Moro</td>\n",
       "      <td>1</td>\n",
       "    </tr>\n",
       "    <tr>\n",
       "      <th>18</th>\n",
       "      <td>TV Show</td>\n",
       "      <td>Daniel Minahan</td>\n",
       "      <td>1</td>\n",
       "    </tr>\n",
       "    <tr>\n",
       "      <th>19</th>\n",
       "      <td>TV Show</td>\n",
       "      <td>Felipe Cano</td>\n",
       "      <td>1</td>\n",
       "    </tr>\n",
       "  </tbody>\n",
       "</table>\n",
       "</div>"
      ],
      "text/plain": [
       "       type                director  size\n",
       "0     Movie           Rajiv Chilaka    19\n",
       "1     Movie  Raúl Campos, Jan Suter    18\n",
       "2     Movie             Suhas Kadav    16\n",
       "3     Movie            Marcus Raboy    15\n",
       "4     Movie               Jay Karas    14\n",
       "5     Movie     Cathy Garcia-Molina    13\n",
       "6     Movie         Martin Scorsese    12\n",
       "7     Movie         Youssef Chahine    12\n",
       "8     Movie             Jay Chapman    12\n",
       "9     Movie        Steven Spielberg    11\n",
       "10  TV Show     Alastair Fothergill     3\n",
       "11  TV Show               Ken Burns     2\n",
       "12  TV Show             Stan Lathan     2\n",
       "13  TV Show             Hsu Fu-chun     2\n",
       "14  TV Show          Iginio Straffi     2\n",
       "15  TV Show         Rob Seidenglanz     2\n",
       "16  TV Show             Shin Won-ho     2\n",
       "17  TV Show           Fernando Moro     1\n",
       "18  TV Show          Daniel Minahan     1\n",
       "19  TV Show             Felipe Cano     1"
      ]
     },
     "execution_count": 39,
     "metadata": {},
     "output_type": "execute_result"
    }
   ],
   "source": [
    "# Top 10 Directors by Number of Titles for Each Type\n",
    "\n",
    "import pandas as pd\n",
    "\n",
    "# Filter out missing values first\n",
    "filtered_df = df.copy()\n",
    "filtered_df = filtered_df[filtered_df['director'].notnull()]\n",
    "filtered_df = filtered_df[filtered_df['type'].notnull()]\n",
    "\n",
    "# Count number of titles by Type and Director\n",
    "directors_count = (\n",
    "    filtered_df.groupby(['type', 'director'], as_index=False)\n",
    "    .size()\n",
    "    .sort_values(by='size', ascending=False)\n",
    ")\n",
    "\n",
    "# Get Top 10 for each Type\n",
    "top_directors = directors_count.groupby('type').head(10).reset_index(drop=True)\n",
    "\n",
    "# Display the Top 10 Directors by Type\n",
    "top_directors\n"
   ]
  },
  {
   "cell_type": "markdown",
   "id": "900e0a44-2c9a-4701-8d72-ac144a75e6d8",
   "metadata": {},
   "source": [
    "## 🎬 Interpretation of Top Directors by Content Type\n",
    "\n",
    "The table provides a list of the **top directors on Netflix** based on the **number of titles** they have directed, categorized into **Movies** and **TV Shows**.\n",
    "\n",
    "### 📌 Observations:\n",
    "\n",
    "- The majority of top entries are **Movie directors**, indicating that movies on Netflix tend to have **more frequent directorial repetition** than TV shows.\n",
    "- **Rajiv Chilaka** leads with **19 movie titles**, followed closely by **Raúl Campos & Jan Suter** (jointly) with **18 titles**.\n",
    "- Other prominent Movie directors include:\n",
    "  - **Suhas Kadav** (16 titles)\n",
    "  - **Marcus Raboy** (15 titles)\n",
    "  - **Martin Scorsese**, **Youssef Chahine**, and **Jay Chapman** (each with 12 titles)\n",
    "- **Steven Spielberg**, a globally renowned filmmaker, appears with **11 movie titles**, showing Netflix's acquisition of established filmographies.\n",
    "- Only **TV Show directors** appear after the top 10:\n",
    "  - **Alastair Fothergill** leads with **3 TV show titles**\n",
    "  - Several directors tie with **2 titles each**, including:\n",
    "    - **Ken Burns**\n",
    "    - **Stan Lathan**\n",
    "    - **Hsu Fu-chun**\n",
    "    - **Iginio Straffi**\n",
    "    - **Rob Seidenglanz**\n",
    "    - **Shin Won-ho**\n",
    "    - **Fernando Moro**\n",
    "\n",
    "### 📊 Key Insights:\n",
    "\n",
    "- Netflix’s **movie catalog is more director-centric**, showing a pattern of recurring collaborations or acquisitions from specific directors.\n",
    "- **TV shows have less recurrence** in directors, which could be due to:\n",
    "  - TV productions typically involving multiple directors per series/season\n",
    "  - Lower metadata availability for directors of episodic content\n",
    "- The data may suggest that **Netflix invests more heavily** in securing multiple projects from **specific film directors**, enhancing brand and content consistency.\n"
   ]
  },
  {
   "cell_type": "markdown",
   "id": "7b11d9a7-85f3-43be-94d0-f9759393b930",
   "metadata": {},
   "source": [
    "## Top 10 Countries By Production"
   ]
  },
  {
   "cell_type": "code",
   "execution_count": 83,
   "id": "9b96c93e-689d-4fb2-8274-a29aba85c829",
   "metadata": {},
   "outputs": [
    {
     "data": {
      "image/png": "[encoded data removed]",
      "text/plain": [
       "<Figure size 1000x600 with 1 Axes>"
      ]
     },
     "metadata": {},
     "output_type": "display_data"
    }
   ],
   "source": [
    " plt.figure(figsize=(10, 6))\n",
    " top_countries = data['country'].dropna().str.split(', ', expand=True).stack().value_counts().head(10)\n",
    " sns.barplot(x=top_countries.values, y=top_countries.index, palette=\"viridis\", hue=top_countries.index)\n",
    " plt.title(\"Top 10 Countries by Number of productions\")\n",
    " plt.xlabel(\"Number of Titles\")\n",
    " plt.ylabel(\"Country\")\n",
    " plt.tight_layout()\n",
    " plt.show()"
   ]
  },
  {
   "cell_type": "markdown",
   "id": "81a33678-08ab-4da8-8632-8f41708331ce",
   "metadata": {},
   "source": [
    "## 📈 Interpretation of Top 10 Countries by Number of Productions Plot\n",
    "\n",
    "This bar chart shows the **Top 10 Countries by Number of Productions** in the Netflix dataset.\n",
    "\n",
    "- The **Y-axis** lists the **countries** in descending order of their count — with the country featuring the highest number of titles at the top.\n",
    "- The **X-axis** shows the **number of titles** that are associated with each country.\n",
    "- The color scheme (generated by the **viridis** palette) helps visually distinguish the different countries.\n",
    "\n",
    "This information highlights which countries produce the most content for Netflix, reflecting their role in the platform’s catalog and possibly their influence on its international reach and diversity of stories.\n"
   ]
  },
  {
   "cell_type": "markdown",
   "id": "78679e84-0d40-42fe-a51c-fe93845d29e2",
   "metadata": {},
   "source": [
    "## Top 10 Generes"
   ]
  },
  {
   "cell_type": "code",
   "execution_count": 87,
   "id": "df766ac7-5454-4e38-ac61-26e817d8bcfd",
   "metadata": {},
   "outputs": [
    {
     "data": {
      "image/png": "[encoded data removed]",
      "text/plain": [
       "<Figure size 1200x600 with 1 Axes>"
      ]
     },
     "metadata": {},
     "output_type": "display_data"
    }
   ],
   "source": [
    " plt.figure(figsize=(12, 6))\n",
    " top_genres = data['listed_in'].dropna().str.split(', ', expand=True).stack().value_counts().head(10)\n",
    " sns.barplot(x=top_genres.values, y=top_genres.index, palette=\"coolwarm\", legend=False, hue=10)\n",
    " plt.title(\"Top 10 Genres\")\n",
    " plt.xlabel(\"Count\")\n",
    " plt.ylabel(\"Genre\")\n",
    " plt.tight_layout()\n",
    " plt.show()"
   ]
  },
  {
   "cell_type": "markdown",
   "id": "d5329cfa-2690-41db-93ec-76ff09b706d6",
   "metadata": {},
   "source": [
    "## 📈 Interpretation of Top 10 Genres Plot\n",
    "\n",
    "This bar chart displays the **Top 10 Genres** by their **frequency of appearance** in the dataset.  \n",
    "It shows us which genres are most frequently represented in Netflix’s catalog.\n",
    "\n",
    "- The **Y-axis** lists the **genres** in descending order of their count.\n",
    "- The **X-axis** shows the **number of titles** that fall into each genre.\n",
    "- The colors (generated by the **coolwarm** palette) help distinguish the different genres visually.\n",
    "  \n",
    "This can be helpful for understanding the content preferences or dominant genres within the Netflix library, guiding decisions related to content production, marketing, or algorithm design\n",
    "\n",
    "---"
   ]
  },
  {
   "cell_type": "markdown",
   "id": "666f9e8d-1871-41ca-a605-2820a629fcf6",
   "metadata": {},
   "source": [
    "# 🎬 Netflix Dataset Analysis Report\n",
    "\n",
    "## 🧷 Key Points\n",
    "\n",
    "The Netflix dataset offers a broad perspective on its streaming catalog, including metadata that supports analyzing the relationship between production teams (like directors) and content characteristics (such as ratings). Notable dataset features include:\n",
    "\n",
    "- Contains over **8,000 records**, divided into **TV Shows** and **Movies**.\n",
    "- Each entry includes fields like:\n",
    "  - `title`, `type`, `director`, `cast`, `country`, `date_added`, `release_year`, `rating`, `duration`, `listed_in`, and `description`.\n",
    "- The **“rating”** field indicates content maturity (e.g., TV-MA, PG, R).\n",
    "- The **“director”** field allows correlation analysis to investigate:\n",
    "  - Whether certain directors are associated with specific **audience ratings**.\n",
    "  - How frequently individual directors appear across content with similar ratings.\n",
    "- A significant number of records have **missing director values**, limiting direct correlation for some entries.\n",
    "- Other useful fields for context:\n",
    "  - `country` — helps study international patterns.\n",
    "  - `listed_in` — reflects genre types that may influence rating.\n",
    "  - `release_year` and `date_added` — useful for identifying trends over time.\n",
    "- This dataset enables the evaluation of whether **a director’s influence** plays a role in the **rating assigned to a production**.\n",
    "\n",
    "---\n",
    "\n",
    "## 📝 Summary\n",
    "\n",
    "This report aims to explore whether a correlation exists between the **director** of a production and its **audience rating** on Netflix. The dataset presents a mix of TV Shows and Movies from diverse regions and includes important metadata for analysis.\n",
    "\n",
    "- The majority of content originates from:\n",
    "  - 🇺🇸 **United States**\n",
    "  - 🇮🇳 **India**\n",
    "  - 🇬🇧 **United Kingdom**\n",
    "- Ratings vary widely, with a strong presence of:\n",
    "  - `TV-MA`, `R`, `PG`, and `TV-14`\n",
    "- **Director analysis:**\n",
    "  - Some directors appear more frequently in **mature-rated content** (`TV-MA`, `R`), while others align with **family-friendly titles** (`PG`, `TV-G`).\n",
    "  - The dataset reveals **no strong universal correlation**, but certain directors do show rating tendencies.\n",
    "- A major limitation is the **high number of missing director entries**, especially in TV Show records.\n",
    "- Genre overlap (e.g., dramas often being rated TV-MA) also influences rating outcomes, making it hard to isolate **director influence** without controlling for genre.\n",
    "- Initial exploration suggests that:\n",
    "  - While some famous directors (e.g., Martin Scorsese) consistently direct content with mature ratings, many directors appear only once, limiting statistical strength.\n",
    "- Overall, the **director-rating link** appears to be **contextual rather than causal**, needing further in-depth analysis.\n",
    "\n",
    "---\n",
    "\n",
    "## 📌 Findings\n",
    "\n",
    "From a focused perspective on the **research question** — _\"Does the director of a production correlate with its rating?\"_ — the following findings were made:\n",
    "\n",
    "- **Director-Rating Patterns:**\n",
    "  - Some directors are **repeatedly associated** with certain rating levels.\n",
    "    - For example, directors known for action or crime genres typically align with `TV-MA` or `R` ratings.\n",
    "  - **Family/children content** often features directors not present in mature-rated content.\n",
    "- **Correlation Observations:**\n",
    "  - No statistically significant or universal correlation is observed across the entire dataset.\n",
    "  - The correlation is **weaker** due to:\n",
    "    - A large number of **unique directors** (many with only one title).\n",
    "    - **Missing values** in the `director` column (~30% of total entries).\n",
    "- **Genre-Influenced Ratings:**\n",
    "  - Ratings are often more tightly linked to **genre** than to **director**.\n",
    "  - Directors tend to stick to **specific genres**, which indirectly affects the rating but doesn't directly establish causality.\n",
    "- **Data Limitations:**\n",
    "  - Many titles lack director data, particularly among international and lower-budget productions.\n",
    "  - One-time directors reduce the reliability of statistical modeling for correlation.\n",
    "- **Conclusion:**\n",
    "  - While there are **observable patterns** (certain directors favoring specific ratings), the **overall correlation is weak or inconclusive** without genre and content-type controls.\n",
    "  - More robust analysis with **genre-normalized sampling** and **rating frequency by director** is required for a definitive answer.\n",
    "\n",
    "---\n",
    "\n"
   ]
  }
 ],
 "metadata": {
  "kernelspec": {
   "display_name": "Python [conda env:base] *",
   "language": "python",
   "name": "conda-base-py"
  },
  "language_info": {
   "codemirror_mode": {
    "name": "ipython",
    "version": 3
   },
   "file_extension": ".py",
   "mimetype": "text/x-python",
   "name": "python",
   "nbconvert_exporter": "python",
   "pygments_lexer": "ipython3",
   "version": "3.12.7"
  }
 },
 "nbformat": 4,
 "nbformat_minor": 5
}
